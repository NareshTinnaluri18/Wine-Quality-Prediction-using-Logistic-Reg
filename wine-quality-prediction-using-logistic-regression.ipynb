{
 "cells": [
  {
   "cell_type": "markdown",
   "metadata": {
    "papermill": {
     "duration": 0.021889,
     "end_time": "2020-08-15T14:29:18.458809",
     "exception": false,
     "start_time": "2020-08-15T14:29:18.436920",
     "status": "completed"
    },
    "tags": []
   },
   "source": [
    "# Wine Quality Prediction\n",
    "Classification using Logistic Regression  \n",
    "### Data Set\n",
    "This Data set contains the information related to red wine , Various factors affecting the quality. This data set was prepossessed and downloaded from the UCI Machine Learning Repository. This data set was simple, cleaned, practice data set for classification modelling. Source of this Dataset: https://archive.ics.uci.edu/ml/datasets/wine+quality\n",
    "\n",
    "Attribute Information:  \n",
    "Input variables (based on physicochemical tests):  \n",
    "1. - fixed acidity  \n",
    "2.  - volatile acidity  \n",
    "3.  - citric acid   \n",
    "4.  - residual sugar   \n",
    "5.  - chlorides   \n",
    "6.  - free sulfur dioxide   \n",
    "7.  - total sulfur dioxide  \n",
    "8.  - density   \n",
    "9.  - pH  \n",
    "10.  - sulphates   \n",
    "11.  - alcohol  \n",
    "Output variable (based on sensory data):    \n",
    "12.  - quality ('good' and 'bad' based on score >5 and <5)  \n",
    "\n",
    "### Analysis Summary\n",
    "This analysis focuses on finding attributes that significantly affect wine quality classification and training a predictive model to classify wine quality into ```good``` and ```bad``` based on attributes. Analysis is pivoted on the variable ```quality```(target variable). Exploratory data analysis steps like removing null values, observing summary statistics, visualizing the variables, removing oultiers, checking for correlations are carried out.   \n",
    "  \n",
    "Following significant correlations are observed. \n",
    "- Fixed acidity vs pH : -0.69\n",
    "- Fixed acidity vs density : 0.69\n",
    "- fixed acidity vs citric acid : 0.67 \n",
    "- Volatile acidity vs citric acid : -0.53\n",
    "- citric acid vs pH : -0.54\n",
    "- density vs alcohol : -0.51   \n",
    "\n",
    "\n",
    "A 70-30 split is done to divide dataset into test and train sets.  \n",
    "10 variables are selected using automated RFE. Further, manual selection is carried out using p-value method. \n",
    "Models are build on train data using ```statsmodels.api``` package. \n",
    "Final Model is build on the following variables.   \n",
    "```citric acid```,```fixed acidity```,```volatile acidity```,```alcohol```,```sulphates```,```total sulfur dioxide```  \n",
    "Variance inflation factor is calculated for all final selection of variables. VIF < 5. No significant Multicollinearity observed. \n",
    "   \n",
    "\n",
    "ROC, Precision-Recall / Sensitivity - Specificity curves have been plotted. The optimum threshold for classification seems to be 0.5   \n",
    "  \n",
    "**Model metrics on train data at classification threshold of 0.5 :**   \n",
    "* Accuracy : 0.752\n",
    "* Misclassification Rate / Error Rate : 0.248\n",
    "* Sensitivity / True Positive Rate / Recall : 0.755\n",
    "* Specificity / True Negative Rate :  0.75\n",
    "* False Positive Rate : 0.25\n",
    "* Precision / Positive Predictive Value : 0.777\n",
    "* Prevalance : 0.535\n",
    "* Negative Predictive Value 0.726\n",
    "* Likelihood Ratio : Sensitivity / 1-Specificity : 3.02\n",
    "* F1-score : 0.766\n",
    "\n",
    "**Model metrics on test data at classification threshold of 0.5 :**   \n",
    "* Accuracy : 0.746\n",
    "* Misclassification Rate / Error Rate : 0.254\n",
    "* Sensitivity / True Positive Rate / Recall : 0.797\n",
    "* Specificity / True Negative Rate :  0.688\n",
    "* False Positive Rate : 0.312\n",
    "* Precision / Positive Predictive Value : 0.745\n",
    "* Prevalance : 0.533\n",
    "* Negative Predictive Value 0.748\n",
    "* Likelihood Ratio : Sensitivity / 1-Specificity : 2.554\n",
    "* F1-score : 0.77\n",
    "\n",
    "\n",
    " "
   ]
  },
  {
   "cell_type": "code",
   "execution_count": 1,
   "metadata": {
    "execution": {
     "iopub.execute_input": "2020-08-15T14:29:18.502215Z",
     "iopub.status.busy": "2020-08-15T14:29:18.501444Z",
     "iopub.status.idle": "2020-08-15T14:29:19.365203Z",
     "shell.execute_reply": "2020-08-15T14:29:19.364371Z"
    },
    "papermill": {
     "duration": 0.887808,
     "end_time": "2020-08-15T14:29:19.365329",
     "exception": false,
     "start_time": "2020-08-15T14:29:18.477521",
     "status": "completed"
    },
    "tags": []
   },
   "outputs": [],
   "source": [
    "import pandas as pd, numpy as np\n",
    "import matplotlib.pyplot as plt \n",
    "import seaborn as sns \n",
    "import warnings \n",
    "warnings.filterwarnings('ignore')"
   ]
  },
  {
   "cell_type": "markdown",
   "metadata": {
    "papermill": {
     "duration": 0.018511,
     "end_time": "2020-08-15T14:29:19.402557",
     "exception": false,
     "start_time": "2020-08-15T14:29:19.384046",
     "status": "completed"
    },
    "tags": []
   },
   "source": [
    "### Importing Data"
   ]
  },
  {
   "cell_type": "code",
   "execution_count": 2,
   "metadata": {
    "execution": {
     "iopub.execute_input": "2020-08-15T14:29:19.444573Z",
     "iopub.status.busy": "2020-08-15T14:29:19.443819Z",
     "iopub.status.idle": "2020-08-15T14:29:19.569583Z",
     "shell.execute_reply": "2020-08-15T14:29:19.568963Z"
    },
    "papermill": {
     "duration": 0.148909,
     "end_time": "2020-08-15T14:29:19.569720",
     "exception": false,
     "start_time": "2020-08-15T14:29:19.420811",
     "status": "completed"
    },
    "tags": []
   },
   "outputs": [],
   "source": [
    "data = pd.read_csv('../input/wine-quality-classification/wine_quality_classification.csv', engine='python')"
   ]
  },
  {
   "cell_type": "code",
   "execution_count": 3,
   "metadata": {
    "execution": {
     "iopub.execute_input": "2020-08-15T14:29:19.623071Z",
     "iopub.status.busy": "2020-08-15T14:29:19.622313Z",
     "iopub.status.idle": "2020-08-15T14:29:19.635640Z",
     "shell.execute_reply": "2020-08-15T14:29:19.634926Z"
    },
    "papermill": {
     "duration": 0.04732,
     "end_time": "2020-08-15T14:29:19.635757",
     "exception": false,
     "start_time": "2020-08-15T14:29:19.588437",
     "status": "completed"
    },
    "tags": []
   },
   "outputs": [
    {
     "data": {
      "text/html": [
       "<div>\n",
       "<style scoped>\n",
       "    .dataframe tbody tr th:only-of-type {\n",
       "        vertical-align: middle;\n",
       "    }\n",
       "\n",
       "    .dataframe tbody tr th {\n",
       "        vertical-align: top;\n",
       "    }\n",
       "\n",
       "    .dataframe thead th {\n",
       "        text-align: right;\n",
       "    }\n",
       "</style>\n",
       "<table border=\"1\" class=\"dataframe\">\n",
       "  <thead>\n",
       "    <tr style=\"text-align: right;\">\n",
       "      <th></th>\n",
       "      <th>fixed acidity</th>\n",
       "      <th>volatile acidity</th>\n",
       "      <th>citric acid</th>\n",
       "      <th>residual sugar</th>\n",
       "      <th>chlorides</th>\n",
       "      <th>free sulfur dioxide</th>\n",
       "      <th>total sulfur dioxide</th>\n",
       "      <th>density</th>\n",
       "      <th>pH</th>\n",
       "      <th>sulphates</th>\n",
       "      <th>alcohol</th>\n",
       "      <th>quality</th>\n",
       "    </tr>\n",
       "  </thead>\n",
       "  <tbody>\n",
       "    <tr>\n",
       "      <th>0</th>\n",
       "      <td>7.4</td>\n",
       "      <td>0.70</td>\n",
       "      <td>0.00</td>\n",
       "      <td>1.9</td>\n",
       "      <td>0.076</td>\n",
       "      <td>11.0</td>\n",
       "      <td>34.0</td>\n",
       "      <td>0.9978</td>\n",
       "      <td>3.51</td>\n",
       "      <td>0.56</td>\n",
       "      <td>9.4</td>\n",
       "      <td>bad</td>\n",
       "    </tr>\n",
       "    <tr>\n",
       "      <th>1</th>\n",
       "      <td>7.8</td>\n",
       "      <td>0.88</td>\n",
       "      <td>0.00</td>\n",
       "      <td>2.6</td>\n",
       "      <td>0.098</td>\n",
       "      <td>25.0</td>\n",
       "      <td>67.0</td>\n",
       "      <td>0.9968</td>\n",
       "      <td>3.20</td>\n",
       "      <td>0.68</td>\n",
       "      <td>9.8</td>\n",
       "      <td>bad</td>\n",
       "    </tr>\n",
       "    <tr>\n",
       "      <th>2</th>\n",
       "      <td>7.8</td>\n",
       "      <td>0.76</td>\n",
       "      <td>0.04</td>\n",
       "      <td>2.3</td>\n",
       "      <td>0.092</td>\n",
       "      <td>15.0</td>\n",
       "      <td>54.0</td>\n",
       "      <td>0.9970</td>\n",
       "      <td>3.26</td>\n",
       "      <td>0.65</td>\n",
       "      <td>9.8</td>\n",
       "      <td>bad</td>\n",
       "    </tr>\n",
       "    <tr>\n",
       "      <th>3</th>\n",
       "      <td>11.2</td>\n",
       "      <td>0.28</td>\n",
       "      <td>0.56</td>\n",
       "      <td>1.9</td>\n",
       "      <td>0.075</td>\n",
       "      <td>17.0</td>\n",
       "      <td>60.0</td>\n",
       "      <td>0.9980</td>\n",
       "      <td>3.16</td>\n",
       "      <td>0.58</td>\n",
       "      <td>9.8</td>\n",
       "      <td>good</td>\n",
       "    </tr>\n",
       "    <tr>\n",
       "      <th>4</th>\n",
       "      <td>7.4</td>\n",
       "      <td>0.70</td>\n",
       "      <td>0.00</td>\n",
       "      <td>1.9</td>\n",
       "      <td>0.076</td>\n",
       "      <td>11.0</td>\n",
       "      <td>34.0</td>\n",
       "      <td>0.9978</td>\n",
       "      <td>3.51</td>\n",
       "      <td>0.56</td>\n",
       "      <td>9.4</td>\n",
       "      <td>bad</td>\n",
       "    </tr>\n",
       "  </tbody>\n",
       "</table>\n",
       "</div>"
      ],
      "text/plain": [
       "   fixed acidity  volatile acidity  citric acid  residual sugar  chlorides  \\\n",
       "0            7.4              0.70         0.00             1.9      0.076   \n",
       "1            7.8              0.88         0.00             2.6      0.098   \n",
       "2            7.8              0.76         0.04             2.3      0.092   \n",
       "3           11.2              0.28         0.56             1.9      0.075   \n",
       "4            7.4              0.70         0.00             1.9      0.076   \n",
       "\n",
       "   free sulfur dioxide  total sulfur dioxide  density    pH  sulphates  \\\n",
       "0                 11.0                  34.0   0.9978  3.51       0.56   \n",
       "1                 25.0                  67.0   0.9968  3.20       0.68   \n",
       "2                 15.0                  54.0   0.9970  3.26       0.65   \n",
       "3                 17.0                  60.0   0.9980  3.16       0.58   \n",
       "4                 11.0                  34.0   0.9978  3.51       0.56   \n",
       "\n",
       "   alcohol quality  \n",
       "0      9.4     bad  \n",
       "1      9.8     bad  \n",
       "2      9.8     bad  \n",
       "3      9.8    good  \n",
       "4      9.4     bad  "
      ]
     },
     "execution_count": 3,
     "metadata": {},
     "output_type": "execute_result"
    }
   ],
   "source": [
    "data.head()"
   ]
  },
  {
   "cell_type": "code",
   "execution_count": 4,
   "metadata": {
    "execution": {
     "iopub.execute_input": "2020-08-15T14:29:19.690044Z",
     "iopub.status.busy": "2020-08-15T14:29:19.689114Z",
     "iopub.status.idle": "2020-08-15T14:29:19.692535Z",
     "shell.execute_reply": "2020-08-15T14:29:19.693266Z"
    },
    "papermill": {
     "duration": 0.038764,
     "end_time": "2020-08-15T14:29:19.693471",
     "exception": false,
     "start_time": "2020-08-15T14:29:19.654707",
     "status": "completed"
    },
    "tags": []
   },
   "outputs": [
    {
     "name": "stdout",
     "output_type": "stream",
     "text": [
      "<class 'pandas.core.frame.DataFrame'>\n",
      "RangeIndex: 1599 entries, 0 to 1598\n",
      "Data columns (total 12 columns):\n",
      " #   Column                Non-Null Count  Dtype  \n",
      "---  ------                --------------  -----  \n",
      " 0   fixed acidity         1599 non-null   float64\n",
      " 1   volatile acidity      1599 non-null   float64\n",
      " 2   citric acid           1599 non-null   float64\n",
      " 3   residual sugar        1599 non-null   float64\n",
      " 4   chlorides             1599 non-null   float64\n",
      " 5   free sulfur dioxide   1599 non-null   float64\n",
      " 6   total sulfur dioxide  1599 non-null   float64\n",
      " 7   density               1599 non-null   float64\n",
      " 8   pH                    1599 non-null   float64\n",
      " 9   sulphates             1599 non-null   float64\n",
      " 10  alcohol               1599 non-null   float64\n",
      " 11  quality               1599 non-null   object \n",
      "dtypes: float64(11), object(1)\n",
      "memory usage: 150.0+ KB\n"
     ]
    }
   ],
   "source": [
    "data.info()"
   ]
  },
  {
   "cell_type": "code",
   "execution_count": 5,
   "metadata": {
    "execution": {
     "iopub.execute_input": "2020-08-15T14:29:19.740358Z",
     "iopub.status.busy": "2020-08-15T14:29:19.739532Z",
     "iopub.status.idle": "2020-08-15T14:29:19.743911Z",
     "shell.execute_reply": "2020-08-15T14:29:19.743175Z"
    },
    "papermill": {
     "duration": 0.030701,
     "end_time": "2020-08-15T14:29:19.744027",
     "exception": false,
     "start_time": "2020-08-15T14:29:19.713326",
     "status": "completed"
    },
    "tags": []
   },
   "outputs": [
    {
     "data": {
      "text/plain": [
       "fixed acidity           0\n",
       "volatile acidity        0\n",
       "citric acid             0\n",
       "residual sugar          0\n",
       "chlorides               0\n",
       "free sulfur dioxide     0\n",
       "total sulfur dioxide    0\n",
       "density                 0\n",
       "pH                      0\n",
       "sulphates               0\n",
       "alcohol                 0\n",
       "quality                 0\n",
       "dtype: int64"
      ]
     },
     "execution_count": 5,
     "metadata": {},
     "output_type": "execute_result"
    }
   ],
   "source": [
    "data.isnull().sum()"
   ]
  },
  {
   "cell_type": "markdown",
   "metadata": {
    "papermill": {
     "duration": 0.01876,
     "end_time": "2020-08-15T14:29:19.781826",
     "exception": false,
     "start_time": "2020-08-15T14:29:19.763066",
     "status": "completed"
    },
    "tags": []
   },
   "source": [
    "```quality``` is our target variable. It has two levels - good & bad. No null or missing values. All the other variables are continuous variables. "
   ]
  },
  {
   "cell_type": "markdown",
   "metadata": {
    "papermill": {
     "duration": 0.018901,
     "end_time": "2020-08-15T14:29:19.819858",
     "exception": false,
     "start_time": "2020-08-15T14:29:19.800957",
     "status": "completed"
    },
    "tags": []
   },
   "source": [
    "### Replacing ```quality``` levels with 0,1"
   ]
  },
  {
   "cell_type": "code",
   "execution_count": 6,
   "metadata": {
    "execution": {
     "iopub.execute_input": "2020-08-15T14:29:19.866645Z",
     "iopub.status.busy": "2020-08-15T14:29:19.865657Z",
     "iopub.status.idle": "2020-08-15T14:29:19.868883Z",
     "shell.execute_reply": "2020-08-15T14:29:19.868310Z"
    },
    "papermill": {
     "duration": 0.030114,
     "end_time": "2020-08-15T14:29:19.869003",
     "exception": false,
     "start_time": "2020-08-15T14:29:19.838889",
     "status": "completed"
    },
    "tags": []
   },
   "outputs": [],
   "source": [
    "data['quality'] = data['quality'].replace({'good' : 1, 'bad' : 0})"
   ]
  },
  {
   "cell_type": "markdown",
   "metadata": {
    "papermill": {
     "duration": 0.018744,
     "end_time": "2020-08-15T14:29:19.907246",
     "exception": false,
     "start_time": "2020-08-15T14:29:19.888502",
     "status": "completed"
    },
    "tags": []
   },
   "source": [
    "### Summary Statistics"
   ]
  },
  {
   "cell_type": "code",
   "execution_count": 7,
   "metadata": {
    "execution": {
     "iopub.execute_input": "2020-08-15T14:29:19.955269Z",
     "iopub.status.busy": "2020-08-15T14:29:19.954239Z",
     "iopub.status.idle": "2020-08-15T14:29:20.000049Z",
     "shell.execute_reply": "2020-08-15T14:29:19.999306Z"
    },
    "papermill": {
     "duration": 0.07381,
     "end_time": "2020-08-15T14:29:20.000168",
     "exception": false,
     "start_time": "2020-08-15T14:29:19.926358",
     "status": "completed"
    },
    "tags": []
   },
   "outputs": [
    {
     "data": {
      "text/html": [
       "<div>\n",
       "<style scoped>\n",
       "    .dataframe tbody tr th:only-of-type {\n",
       "        vertical-align: middle;\n",
       "    }\n",
       "\n",
       "    .dataframe tbody tr th {\n",
       "        vertical-align: top;\n",
       "    }\n",
       "\n",
       "    .dataframe thead th {\n",
       "        text-align: right;\n",
       "    }\n",
       "</style>\n",
       "<table border=\"1\" class=\"dataframe\">\n",
       "  <thead>\n",
       "    <tr style=\"text-align: right;\">\n",
       "      <th></th>\n",
       "      <th>fixed acidity</th>\n",
       "      <th>volatile acidity</th>\n",
       "      <th>citric acid</th>\n",
       "      <th>residual sugar</th>\n",
       "      <th>chlorides</th>\n",
       "      <th>free sulfur dioxide</th>\n",
       "      <th>total sulfur dioxide</th>\n",
       "      <th>density</th>\n",
       "      <th>pH</th>\n",
       "      <th>sulphates</th>\n",
       "      <th>alcohol</th>\n",
       "      <th>quality</th>\n",
       "    </tr>\n",
       "  </thead>\n",
       "  <tbody>\n",
       "    <tr>\n",
       "      <th>count</th>\n",
       "      <td>1599.000000</td>\n",
       "      <td>1599.000000</td>\n",
       "      <td>1599.000000</td>\n",
       "      <td>1599.000000</td>\n",
       "      <td>1599.000000</td>\n",
       "      <td>1599.000000</td>\n",
       "      <td>1599.000000</td>\n",
       "      <td>1599.000000</td>\n",
       "      <td>1599.000000</td>\n",
       "      <td>1599.000000</td>\n",
       "      <td>1599.000000</td>\n",
       "      <td>1599.000000</td>\n",
       "    </tr>\n",
       "    <tr>\n",
       "      <th>mean</th>\n",
       "      <td>8.319637</td>\n",
       "      <td>0.527821</td>\n",
       "      <td>0.270976</td>\n",
       "      <td>2.538806</td>\n",
       "      <td>0.087467</td>\n",
       "      <td>15.874922</td>\n",
       "      <td>46.467792</td>\n",
       "      <td>0.996747</td>\n",
       "      <td>3.311113</td>\n",
       "      <td>0.658149</td>\n",
       "      <td>10.422983</td>\n",
       "      <td>0.534709</td>\n",
       "    </tr>\n",
       "    <tr>\n",
       "      <th>std</th>\n",
       "      <td>1.741096</td>\n",
       "      <td>0.179060</td>\n",
       "      <td>0.194801</td>\n",
       "      <td>1.409928</td>\n",
       "      <td>0.047065</td>\n",
       "      <td>10.460157</td>\n",
       "      <td>32.895324</td>\n",
       "      <td>0.001887</td>\n",
       "      <td>0.154386</td>\n",
       "      <td>0.169507</td>\n",
       "      <td>1.065668</td>\n",
       "      <td>0.498950</td>\n",
       "    </tr>\n",
       "    <tr>\n",
       "      <th>min</th>\n",
       "      <td>4.600000</td>\n",
       "      <td>0.120000</td>\n",
       "      <td>0.000000</td>\n",
       "      <td>0.900000</td>\n",
       "      <td>0.012000</td>\n",
       "      <td>1.000000</td>\n",
       "      <td>6.000000</td>\n",
       "      <td>0.990070</td>\n",
       "      <td>2.740000</td>\n",
       "      <td>0.330000</td>\n",
       "      <td>8.400000</td>\n",
       "      <td>0.000000</td>\n",
       "    </tr>\n",
       "    <tr>\n",
       "      <th>25%</th>\n",
       "      <td>7.100000</td>\n",
       "      <td>0.390000</td>\n",
       "      <td>0.090000</td>\n",
       "      <td>1.900000</td>\n",
       "      <td>0.070000</td>\n",
       "      <td>7.000000</td>\n",
       "      <td>22.000000</td>\n",
       "      <td>0.995600</td>\n",
       "      <td>3.210000</td>\n",
       "      <td>0.550000</td>\n",
       "      <td>9.500000</td>\n",
       "      <td>0.000000</td>\n",
       "    </tr>\n",
       "    <tr>\n",
       "      <th>50%</th>\n",
       "      <td>7.900000</td>\n",
       "      <td>0.520000</td>\n",
       "      <td>0.260000</td>\n",
       "      <td>2.200000</td>\n",
       "      <td>0.079000</td>\n",
       "      <td>14.000000</td>\n",
       "      <td>38.000000</td>\n",
       "      <td>0.996750</td>\n",
       "      <td>3.310000</td>\n",
       "      <td>0.620000</td>\n",
       "      <td>10.200000</td>\n",
       "      <td>1.000000</td>\n",
       "    </tr>\n",
       "    <tr>\n",
       "      <th>75%</th>\n",
       "      <td>9.200000</td>\n",
       "      <td>0.640000</td>\n",
       "      <td>0.420000</td>\n",
       "      <td>2.600000</td>\n",
       "      <td>0.090000</td>\n",
       "      <td>21.000000</td>\n",
       "      <td>62.000000</td>\n",
       "      <td>0.997835</td>\n",
       "      <td>3.400000</td>\n",
       "      <td>0.730000</td>\n",
       "      <td>11.100000</td>\n",
       "      <td>1.000000</td>\n",
       "    </tr>\n",
       "    <tr>\n",
       "      <th>max</th>\n",
       "      <td>15.900000</td>\n",
       "      <td>1.580000</td>\n",
       "      <td>1.000000</td>\n",
       "      <td>15.500000</td>\n",
       "      <td>0.611000</td>\n",
       "      <td>72.000000</td>\n",
       "      <td>289.000000</td>\n",
       "      <td>1.003690</td>\n",
       "      <td>4.010000</td>\n",
       "      <td>2.000000</td>\n",
       "      <td>14.900000</td>\n",
       "      <td>1.000000</td>\n",
       "    </tr>\n",
       "  </tbody>\n",
       "</table>\n",
       "</div>"
      ],
      "text/plain": [
       "       fixed acidity  volatile acidity  citric acid  residual sugar  \\\n",
       "count    1599.000000       1599.000000  1599.000000     1599.000000   \n",
       "mean        8.319637          0.527821     0.270976        2.538806   \n",
       "std         1.741096          0.179060     0.194801        1.409928   \n",
       "min         4.600000          0.120000     0.000000        0.900000   \n",
       "25%         7.100000          0.390000     0.090000        1.900000   \n",
       "50%         7.900000          0.520000     0.260000        2.200000   \n",
       "75%         9.200000          0.640000     0.420000        2.600000   \n",
       "max        15.900000          1.580000     1.000000       15.500000   \n",
       "\n",
       "         chlorides  free sulfur dioxide  total sulfur dioxide      density  \\\n",
       "count  1599.000000          1599.000000           1599.000000  1599.000000   \n",
       "mean      0.087467            15.874922             46.467792     0.996747   \n",
       "std       0.047065            10.460157             32.895324     0.001887   \n",
       "min       0.012000             1.000000              6.000000     0.990070   \n",
       "25%       0.070000             7.000000             22.000000     0.995600   \n",
       "50%       0.079000            14.000000             38.000000     0.996750   \n",
       "75%       0.090000            21.000000             62.000000     0.997835   \n",
       "max       0.611000            72.000000            289.000000     1.003690   \n",
       "\n",
       "                pH    sulphates      alcohol      quality  \n",
       "count  1599.000000  1599.000000  1599.000000  1599.000000  \n",
       "mean      3.311113     0.658149    10.422983     0.534709  \n",
       "std       0.154386     0.169507     1.065668     0.498950  \n",
       "min       2.740000     0.330000     8.400000     0.000000  \n",
       "25%       3.210000     0.550000     9.500000     0.000000  \n",
       "50%       3.310000     0.620000    10.200000     1.000000  \n",
       "75%       3.400000     0.730000    11.100000     1.000000  \n",
       "max       4.010000     2.000000    14.900000     1.000000  "
      ]
     },
     "execution_count": 7,
     "metadata": {},
     "output_type": "execute_result"
    }
   ],
   "source": [
    "data.describe()"
   ]
  },
  {
   "cell_type": "markdown",
   "metadata": {
    "papermill": {
     "duration": 0.019455,
     "end_time": "2020-08-15T14:29:20.039426",
     "exception": false,
     "start_time": "2020-08-15T14:29:20.019971",
     "status": "completed"
    },
    "tags": []
   },
   "source": [
    "### Checking for Outliers"
   ]
  },
  {
   "cell_type": "code",
   "execution_count": 8,
   "metadata": {
    "execution": {
     "iopub.execute_input": "2020-08-15T14:29:20.085200Z",
     "iopub.status.busy": "2020-08-15T14:29:20.084199Z",
     "iopub.status.idle": "2020-08-15T14:29:20.108026Z",
     "shell.execute_reply": "2020-08-15T14:29:20.107290Z"
    },
    "papermill": {
     "duration": 0.048815,
     "end_time": "2020-08-15T14:29:20.108144",
     "exception": false,
     "start_time": "2020-08-15T14:29:20.059329",
     "status": "completed"
    },
    "tags": []
   },
   "outputs": [
    {
     "data": {
      "text/html": [
       "<div>\n",
       "<style scoped>\n",
       "    .dataframe tbody tr th:only-of-type {\n",
       "        vertical-align: middle;\n",
       "    }\n",
       "\n",
       "    .dataframe tbody tr th {\n",
       "        vertical-align: top;\n",
       "    }\n",
       "\n",
       "    .dataframe thead th {\n",
       "        text-align: right;\n",
       "    }\n",
       "</style>\n",
       "<table border=\"1\" class=\"dataframe\">\n",
       "  <thead>\n",
       "    <tr style=\"text-align: right;\">\n",
       "      <th></th>\n",
       "      <th>fixed acidity</th>\n",
       "      <th>volatile acidity</th>\n",
       "      <th>citric acid</th>\n",
       "      <th>residual sugar</th>\n",
       "      <th>chlorides</th>\n",
       "      <th>free sulfur dioxide</th>\n",
       "      <th>total sulfur dioxide</th>\n",
       "      <th>density</th>\n",
       "      <th>pH</th>\n",
       "      <th>sulphates</th>\n",
       "      <th>alcohol</th>\n",
       "      <th>quality</th>\n",
       "    </tr>\n",
       "  </thead>\n",
       "  <tbody>\n",
       "    <tr>\n",
       "      <th>0.900000</th>\n",
       "      <td>10.700000</td>\n",
       "      <td>0.745000</td>\n",
       "      <td>0.522000</td>\n",
       "      <td>3.600000</td>\n",
       "      <td>0.109000</td>\n",
       "      <td>31.000000</td>\n",
       "      <td>93.200000</td>\n",
       "      <td>0.999140</td>\n",
       "      <td>3.510000</td>\n",
       "      <td>0.850000</td>\n",
       "      <td>12.0</td>\n",
       "      <td>1.0</td>\n",
       "    </tr>\n",
       "    <tr>\n",
       "      <th>0.909091</th>\n",
       "      <td>10.872727</td>\n",
       "      <td>0.760000</td>\n",
       "      <td>0.537273</td>\n",
       "      <td>3.800000</td>\n",
       "      <td>0.111000</td>\n",
       "      <td>31.000000</td>\n",
       "      <td>96.000000</td>\n",
       "      <td>0.999300</td>\n",
       "      <td>3.520000</td>\n",
       "      <td>0.860000</td>\n",
       "      <td>12.0</td>\n",
       "      <td>1.0</td>\n",
       "    </tr>\n",
       "    <tr>\n",
       "      <th>0.918182</th>\n",
       "      <td>11.100000</td>\n",
       "      <td>0.775000</td>\n",
       "      <td>0.550000</td>\n",
       "      <td>4.000000</td>\n",
       "      <td>0.114000</td>\n",
       "      <td>32.000000</td>\n",
       "      <td>99.000000</td>\n",
       "      <td>0.999400</td>\n",
       "      <td>3.530000</td>\n",
       "      <td>0.870000</td>\n",
       "      <td>12.1</td>\n",
       "      <td>1.0</td>\n",
       "    </tr>\n",
       "    <tr>\n",
       "      <th>0.927273</th>\n",
       "      <td>11.300000</td>\n",
       "      <td>0.785000</td>\n",
       "      <td>0.560000</td>\n",
       "      <td>4.200000</td>\n",
       "      <td>0.117000</td>\n",
       "      <td>33.000000</td>\n",
       "      <td>102.781818</td>\n",
       "      <td>0.999478</td>\n",
       "      <td>3.540000</td>\n",
       "      <td>0.887818</td>\n",
       "      <td>12.2</td>\n",
       "      <td>1.0</td>\n",
       "    </tr>\n",
       "    <tr>\n",
       "      <th>0.936364</th>\n",
       "      <td>11.500000</td>\n",
       "      <td>0.810000</td>\n",
       "      <td>0.580000</td>\n",
       "      <td>4.400000</td>\n",
       "      <td>0.120000</td>\n",
       "      <td>34.000000</td>\n",
       "      <td>106.000000</td>\n",
       "      <td>0.999700</td>\n",
       "      <td>3.543091</td>\n",
       "      <td>0.903091</td>\n",
       "      <td>12.4</td>\n",
       "      <td>1.0</td>\n",
       "    </tr>\n",
       "    <tr>\n",
       "      <th>0.945455</th>\n",
       "      <td>11.600000</td>\n",
       "      <td>0.834182</td>\n",
       "      <td>0.590000</td>\n",
       "      <td>4.783636</td>\n",
       "      <td>0.123000</td>\n",
       "      <td>35.000000</td>\n",
       "      <td>110.000000</td>\n",
       "      <td>0.999800</td>\n",
       "      <td>3.560000</td>\n",
       "      <td>0.930000</td>\n",
       "      <td>12.5</td>\n",
       "      <td>1.0</td>\n",
       "    </tr>\n",
       "    <tr>\n",
       "      <th>0.954545</th>\n",
       "      <td>11.900000</td>\n",
       "      <td>0.851818</td>\n",
       "      <td>0.630000</td>\n",
       "      <td>5.500000</td>\n",
       "      <td>0.136364</td>\n",
       "      <td>36.000000</td>\n",
       "      <td>115.000000</td>\n",
       "      <td>1.000000</td>\n",
       "      <td>3.573636</td>\n",
       "      <td>0.953636</td>\n",
       "      <td>12.5</td>\n",
       "      <td>1.0</td>\n",
       "    </tr>\n",
       "    <tr>\n",
       "      <th>0.963636</th>\n",
       "      <td>12.089091</td>\n",
       "      <td>0.880000</td>\n",
       "      <td>0.640000</td>\n",
       "      <td>5.789091</td>\n",
       "      <td>0.164564</td>\n",
       "      <td>38.000000</td>\n",
       "      <td>121.000000</td>\n",
       "      <td>1.000200</td>\n",
       "      <td>3.590000</td>\n",
       "      <td>0.998909</td>\n",
       "      <td>12.7</td>\n",
       "      <td>1.0</td>\n",
       "    </tr>\n",
       "    <tr>\n",
       "      <th>0.972727</th>\n",
       "      <td>12.500000</td>\n",
       "      <td>0.910000</td>\n",
       "      <td>0.660000</td>\n",
       "      <td>6.141818</td>\n",
       "      <td>0.187673</td>\n",
       "      <td>40.000000</td>\n",
       "      <td>129.000000</td>\n",
       "      <td>1.000400</td>\n",
       "      <td>3.610000</td>\n",
       "      <td>1.060000</td>\n",
       "      <td>12.8</td>\n",
       "      <td>1.0</td>\n",
       "    </tr>\n",
       "    <tr>\n",
       "      <th>0.981818</th>\n",
       "      <td>12.794545</td>\n",
       "      <td>0.965000</td>\n",
       "      <td>0.680000</td>\n",
       "      <td>6.983636</td>\n",
       "      <td>0.234727</td>\n",
       "      <td>42.945455</td>\n",
       "      <td>136.000000</td>\n",
       "      <td>1.000989</td>\n",
       "      <td>3.660000</td>\n",
       "      <td>1.140000</td>\n",
       "      <td>12.9</td>\n",
       "      <td>1.0</td>\n",
       "    </tr>\n",
       "    <tr>\n",
       "      <th>0.990909</th>\n",
       "      <td>13.300000</td>\n",
       "      <td>1.022364</td>\n",
       "      <td>0.714727</td>\n",
       "      <td>8.694545</td>\n",
       "      <td>0.368473</td>\n",
       "      <td>51.000000</td>\n",
       "      <td>145.945455</td>\n",
       "      <td>1.001942</td>\n",
       "      <td>3.710000</td>\n",
       "      <td>1.280000</td>\n",
       "      <td>13.4</td>\n",
       "      <td>1.0</td>\n",
       "    </tr>\n",
       "    <tr>\n",
       "      <th>1.000000</th>\n",
       "      <td>15.900000</td>\n",
       "      <td>1.580000</td>\n",
       "      <td>1.000000</td>\n",
       "      <td>15.500000</td>\n",
       "      <td>0.611000</td>\n",
       "      <td>72.000000</td>\n",
       "      <td>289.000000</td>\n",
       "      <td>1.003690</td>\n",
       "      <td>4.010000</td>\n",
       "      <td>2.000000</td>\n",
       "      <td>14.9</td>\n",
       "      <td>1.0</td>\n",
       "    </tr>\n",
       "  </tbody>\n",
       "</table>\n",
       "</div>"
      ],
      "text/plain": [
       "          fixed acidity  volatile acidity  citric acid  residual sugar  \\\n",
       "0.900000      10.700000          0.745000     0.522000        3.600000   \n",
       "0.909091      10.872727          0.760000     0.537273        3.800000   \n",
       "0.918182      11.100000          0.775000     0.550000        4.000000   \n",
       "0.927273      11.300000          0.785000     0.560000        4.200000   \n",
       "0.936364      11.500000          0.810000     0.580000        4.400000   \n",
       "0.945455      11.600000          0.834182     0.590000        4.783636   \n",
       "0.954545      11.900000          0.851818     0.630000        5.500000   \n",
       "0.963636      12.089091          0.880000     0.640000        5.789091   \n",
       "0.972727      12.500000          0.910000     0.660000        6.141818   \n",
       "0.981818      12.794545          0.965000     0.680000        6.983636   \n",
       "0.990909      13.300000          1.022364     0.714727        8.694545   \n",
       "1.000000      15.900000          1.580000     1.000000       15.500000   \n",
       "\n",
       "          chlorides  free sulfur dioxide  total sulfur dioxide   density  \\\n",
       "0.900000   0.109000            31.000000             93.200000  0.999140   \n",
       "0.909091   0.111000            31.000000             96.000000  0.999300   \n",
       "0.918182   0.114000            32.000000             99.000000  0.999400   \n",
       "0.927273   0.117000            33.000000            102.781818  0.999478   \n",
       "0.936364   0.120000            34.000000            106.000000  0.999700   \n",
       "0.945455   0.123000            35.000000            110.000000  0.999800   \n",
       "0.954545   0.136364            36.000000            115.000000  1.000000   \n",
       "0.963636   0.164564            38.000000            121.000000  1.000200   \n",
       "0.972727   0.187673            40.000000            129.000000  1.000400   \n",
       "0.981818   0.234727            42.945455            136.000000  1.000989   \n",
       "0.990909   0.368473            51.000000            145.945455  1.001942   \n",
       "1.000000   0.611000            72.000000            289.000000  1.003690   \n",
       "\n",
       "                pH  sulphates  alcohol  quality  \n",
       "0.900000  3.510000   0.850000     12.0      1.0  \n",
       "0.909091  3.520000   0.860000     12.0      1.0  \n",
       "0.918182  3.530000   0.870000     12.1      1.0  \n",
       "0.927273  3.540000   0.887818     12.2      1.0  \n",
       "0.936364  3.543091   0.903091     12.4      1.0  \n",
       "0.945455  3.560000   0.930000     12.5      1.0  \n",
       "0.954545  3.573636   0.953636     12.5      1.0  \n",
       "0.963636  3.590000   0.998909     12.7      1.0  \n",
       "0.972727  3.610000   1.060000     12.8      1.0  \n",
       "0.981818  3.660000   1.140000     12.9      1.0  \n",
       "0.990909  3.710000   1.280000     13.4      1.0  \n",
       "1.000000  4.010000   2.000000     14.9      1.0  "
      ]
     },
     "execution_count": 8,
     "metadata": {},
     "output_type": "execute_result"
    }
   ],
   "source": [
    "data.quantile(np.linspace(0.90,1,12))"
   ]
  },
  {
   "cell_type": "markdown",
   "metadata": {
    "papermill": {
     "duration": 0.019834,
     "end_time": "2020-08-15T14:29:20.148202",
     "exception": false,
     "start_time": "2020-08-15T14:29:20.128368",
     "status": "completed"
    },
    "tags": []
   },
   "source": [
    "* There are outlier in ```fixed acidity```, ```volatile acidity```, ```citric acid```, ```residual sugar```, ```chlorides```, ```free sulfur dioxide```, ```total sulfur dioxide```, ```pH```, ```sulphates```, ```alcohol```"
   ]
  },
  {
   "cell_type": "markdown",
   "metadata": {
    "papermill": {
     "duration": 0.019871,
     "end_time": "2020-08-15T14:29:20.188226",
     "exception": false,
     "start_time": "2020-08-15T14:29:20.168355",
     "status": "completed"
    },
    "tags": []
   },
   "source": [
    "### Visualizing Independent Variables"
   ]
  },
  {
   "cell_type": "code",
   "execution_count": 9,
   "metadata": {
    "execution": {
     "iopub.execute_input": "2020-08-15T14:29:20.236861Z",
     "iopub.status.busy": "2020-08-15T14:29:20.236057Z",
     "iopub.status.idle": "2020-08-15T14:29:21.697857Z",
     "shell.execute_reply": "2020-08-15T14:29:21.698428Z"
    },
    "papermill": {
     "duration": 1.490304,
     "end_time": "2020-08-15T14:29:21.698592",
     "exception": false,
     "start_time": "2020-08-15T14:29:20.208288",
     "status": "completed"
    },
    "tags": []
   },
   "outputs": [
    {
     "data": {
      "image/png": "[encoded data removed]",
      "text/plain": [
       "<Figure size 864x1728 with 11 Axes>"
      ]
     },
     "metadata": {
      "needs_background": "light"
     },
     "output_type": "display_data"
    }
   ],
   "source": [
    "x_vars = data.columns[data.columns != 'quality']\n",
    "fig,ax = plt.subplots(len(x_vars))\n",
    "fig.set_figheight(24)\n",
    "fig.set_figwidth(12)\n",
    "for num,i in enumerate(x_vars) : \n",
    "    ax[num].set_title(i)\n",
    "    ax[num].set_xlabel('')\n",
    "    sns.boxplot(data[i],ax=ax[num])"
   ]
  },
  {
   "cell_type": "code",
   "execution_count": 10,
   "metadata": {
    "execution": {
     "iopub.execute_input": "2020-08-15T14:29:21.751264Z",
     "iopub.status.busy": "2020-08-15T14:29:21.750499Z",
     "iopub.status.idle": "2020-08-15T14:29:21.826999Z",
     "shell.execute_reply": "2020-08-15T14:29:21.826221Z"
    },
    "papermill": {
     "duration": 0.107241,
     "end_time": "2020-08-15T14:29:21.827140",
     "exception": false,
     "start_time": "2020-08-15T14:29:21.719899",
     "status": "completed"
    },
    "tags": []
   },
   "outputs": [],
   "source": [
    "# removing outliers : \n",
    "x_vars = data.columns[data.columns != 'quality']\n",
    "for i in x_vars :\n",
    "    q1 = data[i].quantile(0.25)\n",
    "    q3 = data[i].quantile(0.75)\n",
    "    upper_extreme = data[i].quantile(0.75) + 1.5*(q3-q1) # q3-q1 is IQR\n",
    "    lower_extreme = data[i].quantile(0.75) - 1.5*(q3-q1)\n",
    "    mask =  (data[i] > lower_extreme) & (data[i] < upper_extreme)  # sans outliers\n",
    "    outliers = data[mask].index\n",
    "    data.drop(index=outliers)\n"
   ]
  },
  {
   "cell_type": "markdown",
   "metadata": {
    "papermill": {
     "duration": 0.020615,
     "end_time": "2020-08-15T14:29:21.868947",
     "exception": false,
     "start_time": "2020-08-15T14:29:21.848332",
     "status": "completed"
    },
    "tags": []
   },
   "source": [
    "### Test Train Split"
   ]
  },
  {
   "cell_type": "code",
   "execution_count": 11,
   "metadata": {
    "execution": {
     "iopub.execute_input": "2020-08-15T14:29:21.916518Z",
     "iopub.status.busy": "2020-08-15T14:29:21.915792Z",
     "iopub.status.idle": "2020-08-15T14:29:22.021726Z",
     "shell.execute_reply": "2020-08-15T14:29:22.020931Z"
    },
    "papermill": {
     "duration": 0.131381,
     "end_time": "2020-08-15T14:29:22.021860",
     "exception": false,
     "start_time": "2020-08-15T14:29:21.890479",
     "status": "completed"
    },
    "tags": []
   },
   "outputs": [],
   "source": [
    "from sklearn.model_selection import train_test_split\n",
    "y = data.pop('quality')\n",
    "X = data\n"
   ]
  },
  {
   "cell_type": "code",
   "execution_count": 12,
   "metadata": {
    "execution": {
     "iopub.execute_input": "2020-08-15T14:29:22.071215Z",
     "iopub.status.busy": "2020-08-15T14:29:22.069775Z",
     "iopub.status.idle": "2020-08-15T14:29:22.074261Z",
     "shell.execute_reply": "2020-08-15T14:29:22.073708Z"
    },
    "papermill": {
     "duration": 0.031439,
     "end_time": "2020-08-15T14:29:22.074380",
     "exception": false,
     "start_time": "2020-08-15T14:29:22.042941",
     "status": "completed"
    },
    "tags": []
   },
   "outputs": [],
   "source": [
    "X_train,X_test,y_train,y_test = train_test_split(X,y,test_size=0.3,random_state=100)"
   ]
  },
  {
   "cell_type": "markdown",
   "metadata": {
    "papermill": {
     "duration": 0.02159,
     "end_time": "2020-08-15T14:29:22.117186",
     "exception": false,
     "start_time": "2020-08-15T14:29:22.095596",
     "status": "completed"
    },
    "tags": []
   },
   "source": [
    "### Scaling Continuous Variables"
   ]
  },
  {
   "cell_type": "code",
   "execution_count": 13,
   "metadata": {
    "execution": {
     "iopub.execute_input": "2020-08-15T14:29:22.170502Z",
     "iopub.status.busy": "2020-08-15T14:29:22.169747Z",
     "iopub.status.idle": "2020-08-15T14:29:22.179128Z",
     "shell.execute_reply": "2020-08-15T14:29:22.178415Z"
    },
    "papermill": {
     "duration": 0.04097,
     "end_time": "2020-08-15T14:29:22.179246",
     "exception": false,
     "start_time": "2020-08-15T14:29:22.138276",
     "status": "completed"
    },
    "tags": []
   },
   "outputs": [],
   "source": [
    "# In our case, all the independent variables are continuous\n",
    "from sklearn.preprocessing import StandardScaler\n",
    "scaler = StandardScaler()\n",
    "X_train[X_train.columns] = scaler.fit_transform(X_train[X_train.columns])\n",
    "\n",
    "# Scaling test set for later use\n",
    "X_test[X_train.columns] = scaler.transform(X_test[X_train.columns])"
   ]
  },
  {
   "cell_type": "markdown",
   "metadata": {
    "papermill": {
     "duration": 0.021149,
     "end_time": "2020-08-15T14:29:22.221410",
     "exception": false,
     "start_time": "2020-08-15T14:29:22.200261",
     "status": "completed"
    },
    "tags": []
   },
   "source": [
    "### Correlations"
   ]
  },
  {
   "cell_type": "code",
   "execution_count": 14,
   "metadata": {
    "execution": {
     "iopub.execute_input": "2020-08-15T14:29:22.272058Z",
     "iopub.status.busy": "2020-08-15T14:29:22.270997Z",
     "iopub.status.idle": "2020-08-15T14:29:23.056114Z",
     "shell.execute_reply": "2020-08-15T14:29:23.056682Z"
    },
    "papermill": {
     "duration": 0.814526,
     "end_time": "2020-08-15T14:29:23.056850",
     "exception": false,
     "start_time": "2020-08-15T14:29:22.242324",
     "status": "completed"
    },
    "tags": []
   },
   "outputs": [
    {
     "data": {
      "image/png": "[encoded data removed]",
      "text/plain": [
       "<Figure size 1440x720 with 2 Axes>"
      ]
     },
     "metadata": {
      "needs_background": "light"
     },
     "output_type": "display_data"
    }
   ],
   "source": [
    "plt.figure(figsize=[20,10])\n",
    "sns.heatmap(X_train.corr(),annot=True)\n",
    "plt.title('Visualizing Correlations')\n",
    "plt.show()"
   ]
  },
  {
   "cell_type": "markdown",
   "metadata": {
    "papermill": {
     "duration": 0.021955,
     "end_time": "2020-08-15T14:29:23.101037",
     "exception": false,
     "start_time": "2020-08-15T14:29:23.079082",
     "status": "completed"
    },
    "tags": []
   },
   "source": [
    "High Correlations : \n",
    "- Fixed acidity vs pH : -0.69\n",
    "- Fixed acidity vs density : 0.69\n",
    "- fixed acidity vs citric acid : 0.67 \n",
    "- Volatile acidity vs citric acid : -0.53\n",
    "- citric acid vs pH : -0.54\n",
    "- density vs alcohol : -0.51 "
   ]
  },
  {
   "cell_type": "markdown",
   "metadata": {
    "papermill": {
     "duration": 0.021632,
     "end_time": "2020-08-15T14:29:23.144864",
     "exception": false,
     "start_time": "2020-08-15T14:29:23.123232",
     "status": "completed"
    },
    "tags": []
   },
   "source": [
    "### Model Building "
   ]
  },
  {
   "cell_type": "code",
   "execution_count": 15,
   "metadata": {
    "execution": {
     "iopub.execute_input": "2020-08-15T14:29:23.194619Z",
     "iopub.status.busy": "2020-08-15T14:29:23.193870Z",
     "iopub.status.idle": "2020-08-15T14:29:23.753917Z",
     "shell.execute_reply": "2020-08-15T14:29:23.753095Z"
    },
    "papermill": {
     "duration": 0.586639,
     "end_time": "2020-08-15T14:29:23.754046",
     "exception": false,
     "start_time": "2020-08-15T14:29:23.167407",
     "status": "completed"
    },
    "tags": []
   },
   "outputs": [],
   "source": [
    "import statsmodels.api as sm"
   ]
  },
  {
   "cell_type": "code",
   "execution_count": 16,
   "metadata": {
    "execution": {
     "iopub.execute_input": "2020-08-15T14:29:23.804381Z",
     "iopub.status.busy": "2020-08-15T14:29:23.803698Z",
     "iopub.status.idle": "2020-08-15T14:29:23.868608Z",
     "shell.execute_reply": "2020-08-15T14:29:23.869175Z"
    },
    "papermill": {
     "duration": 0.092965,
     "end_time": "2020-08-15T14:29:23.869333",
     "exception": false,
     "start_time": "2020-08-15T14:29:23.776368",
     "status": "completed"
    },
    "tags": []
   },
   "outputs": [
    {
     "data": {
      "text/html": [
       "<table class=\"simpletable\">\n",
       "<caption>Generalized Linear Model Regression Results</caption>\n",
       "<tr>\n",
       "  <th>Dep. Variable:</th>        <td>quality</td>     <th>  No. Observations:  </th>  <td>  1119</td> \n",
       "</tr>\n",
       "<tr>\n",
       "  <th>Model:</th>                  <td>GLM</td>       <th>  Df Residuals:      </th>  <td>  1107</td> \n",
       "</tr>\n",
       "<tr>\n",
       "  <th>Model Family:</th>        <td>Binomial</td>     <th>  Df Model:          </th>  <td>    11</td> \n",
       "</tr>\n",
       "<tr>\n",
       "  <th>Link Function:</th>         <td>logit</td>      <th>  Scale:             </th> <td>  1.0000</td>\n",
       "</tr>\n",
       "<tr>\n",
       "  <th>Method:</th>                <td>IRLS</td>       <th>  Log-Likelihood:    </th> <td> -570.86</td>\n",
       "</tr>\n",
       "<tr>\n",
       "  <th>Date:</th>            <td>Sat, 15 Aug 2020</td> <th>  Deviance:          </th> <td>  1141.7</td>\n",
       "</tr>\n",
       "<tr>\n",
       "  <th>Time:</th>                <td>14:29:23</td>     <th>  Pearson chi2:      </th> <td>1.08e+03</td>\n",
       "</tr>\n",
       "<tr>\n",
       "  <th>No. Iterations:</th>          <td>5</td>        <th>                     </th>     <td> </td>   \n",
       "</tr>\n",
       "<tr>\n",
       "  <th>Covariance Type:</th>     <td>nonrobust</td>    <th>                     </th>     <td> </td>   \n",
       "</tr>\n",
       "</table>\n",
       "<table class=\"simpletable\">\n",
       "<tr>\n",
       "            <td></td>              <th>coef</th>     <th>std err</th>      <th>z</th>      <th>P>|z|</th>  <th>[0.025</th>    <th>0.975]</th>  \n",
       "</tr>\n",
       "<tr>\n",
       "  <th>const</th>                <td>    0.2632</td> <td>    0.076</td> <td>    3.478</td> <td> 0.001</td> <td>    0.115</td> <td>    0.411</td>\n",
       "</tr>\n",
       "<tr>\n",
       "  <th>fixed acidity</th>        <td>    0.3550</td> <td>    0.204</td> <td>    1.742</td> <td> 0.082</td> <td>   -0.045</td> <td>    0.755</td>\n",
       "</tr>\n",
       "<tr>\n",
       "  <th>volatile acidity</th>     <td>   -0.5883</td> <td>    0.103</td> <td>   -5.706</td> <td> 0.000</td> <td>   -0.790</td> <td>   -0.386</td>\n",
       "</tr>\n",
       "<tr>\n",
       "  <th>citric acid</th>          <td>   -0.3117</td> <td>    0.132</td> <td>   -2.356</td> <td> 0.018</td> <td>   -0.571</td> <td>   -0.052</td>\n",
       "</tr>\n",
       "<tr>\n",
       "  <th>residual sugar</th>       <td>    0.2039</td> <td>    0.093</td> <td>    2.185</td> <td> 0.029</td> <td>    0.021</td> <td>    0.387</td>\n",
       "</tr>\n",
       "<tr>\n",
       "  <th>chlorides</th>            <td>   -0.1757</td> <td>    0.091</td> <td>   -1.931</td> <td> 0.054</td> <td>   -0.354</td> <td>    0.003</td>\n",
       "</tr>\n",
       "<tr>\n",
       "  <th>free sulfur dioxide</th>  <td>    0.1652</td> <td>    0.107</td> <td>    1.546</td> <td> 0.122</td> <td>   -0.044</td> <td>    0.375</td>\n",
       "</tr>\n",
       "<tr>\n",
       "  <th>total sulfur dioxide</th> <td>   -0.5286</td> <td>    0.115</td> <td>   -4.584</td> <td> 0.000</td> <td>   -0.755</td> <td>   -0.303</td>\n",
       "</tr>\n",
       "<tr>\n",
       "  <th>density</th>              <td>   -0.2451</td> <td>    0.186</td> <td>   -1.320</td> <td> 0.187</td> <td>   -0.609</td> <td>    0.119</td>\n",
       "</tr>\n",
       "<tr>\n",
       "  <th>pH</th>                   <td>   -0.0311</td> <td>    0.133</td> <td>   -0.233</td> <td> 0.815</td> <td>   -0.292</td> <td>    0.230</td>\n",
       "</tr>\n",
       "<tr>\n",
       "  <th>sulphates</th>            <td>    0.4795</td> <td>    0.093</td> <td>    5.143</td> <td> 0.000</td> <td>    0.297</td> <td>    0.662</td>\n",
       "</tr>\n",
       "<tr>\n",
       "  <th>alcohol</th>              <td>    0.9432</td> <td>    0.134</td> <td>    7.014</td> <td> 0.000</td> <td>    0.680</td> <td>    1.207</td>\n",
       "</tr>\n",
       "</table>"
      ],
      "text/plain": [
       "<class 'statsmodels.iolib.summary.Summary'>\n",
       "\"\"\"\n",
       "                 Generalized Linear Model Regression Results                  \n",
       "==============================================================================\n",
       "Dep. Variable:                quality   No. Observations:                 1119\n",
       "Model:                            GLM   Df Residuals:                     1107\n",
       "Model Family:                Binomial   Df Model:                           11\n",
       "Link Function:                  logit   Scale:                          1.0000\n",
       "Method:                          IRLS   Log-Likelihood:                -570.86\n",
       "Date:                Sat, 15 Aug 2020   Deviance:                       1141.7\n",
       "Time:                        14:29:23   Pearson chi2:                 1.08e+03\n",
       "No. Iterations:                     5                                         \n",
       "Covariance Type:            nonrobust                                         \n",
       "========================================================================================\n",
       "                           coef    std err          z      P>|z|      [0.025      0.975]\n",
       "----------------------------------------------------------------------------------------\n",
       "const                    0.2632      0.076      3.478      0.001       0.115       0.411\n",
       "fixed acidity            0.3550      0.204      1.742      0.082      -0.045       0.755\n",
       "volatile acidity        -0.5883      0.103     -5.706      0.000      -0.790      -0.386\n",
       "citric acid             -0.3117      0.132     -2.356      0.018      -0.571      -0.052\n",
       "residual sugar           0.2039      0.093      2.185      0.029       0.021       0.387\n",
       "chlorides               -0.1757      0.091     -1.931      0.054      -0.354       0.003\n",
       "free sulfur dioxide      0.1652      0.107      1.546      0.122      -0.044       0.375\n",
       "total sulfur dioxide    -0.5286      0.115     -4.584      0.000      -0.755      -0.303\n",
       "density                 -0.2451      0.186     -1.320      0.187      -0.609       0.119\n",
       "pH                      -0.0311      0.133     -0.233      0.815      -0.292       0.230\n",
       "sulphates                0.4795      0.093      5.143      0.000       0.297       0.662\n",
       "alcohol                  0.9432      0.134      7.014      0.000       0.680       1.207\n",
       "========================================================================================\n",
       "\"\"\""
      ]
     },
     "execution_count": 16,
     "metadata": {},
     "output_type": "execute_result"
    }
   ],
   "source": [
    "# Logistic Regression Model \n",
    "logm1 = sm.GLM(y_train, sm.add_constant(X_train),family=sm.families.Binomial())\n",
    "logm1.fit().summary()"
   ]
  },
  {
   "cell_type": "markdown",
   "metadata": {
    "papermill": {
     "duration": 0.022429,
     "end_time": "2020-08-15T14:29:23.914871",
     "exception": false,
     "start_time": "2020-08-15T14:29:23.892442",
     "status": "completed"
    },
    "tags": []
   },
   "source": [
    "### Feature Selection using RFE "
   ]
  },
  {
   "cell_type": "code",
   "execution_count": 17,
   "metadata": {
    "execution": {
     "iopub.execute_input": "2020-08-15T14:29:23.965440Z",
     "iopub.status.busy": "2020-08-15T14:29:23.964614Z",
     "iopub.status.idle": "2020-08-15T14:29:24.039160Z",
     "shell.execute_reply": "2020-08-15T14:29:24.038444Z"
    },
    "papermill": {
     "duration": 0.101801,
     "end_time": "2020-08-15T14:29:24.039315",
     "exception": false,
     "start_time": "2020-08-15T14:29:23.937514",
     "status": "completed"
    },
    "tags": []
   },
   "outputs": [],
   "source": [
    "from sklearn.linear_model import LogisticRegression\n",
    "logReg = LogisticRegression()"
   ]
  },
  {
   "cell_type": "code",
   "execution_count": 18,
   "metadata": {
    "execution": {
     "iopub.execute_input": "2020-08-15T14:29:24.091813Z",
     "iopub.status.busy": "2020-08-15T14:29:24.090990Z",
     "iopub.status.idle": "2020-08-15T14:29:24.185068Z",
     "shell.execute_reply": "2020-08-15T14:29:24.184305Z"
    },
    "papermill": {
     "duration": 0.12252,
     "end_time": "2020-08-15T14:29:24.185196",
     "exception": false,
     "start_time": "2020-08-15T14:29:24.062676",
     "status": "completed"
    },
    "tags": []
   },
   "outputs": [],
   "source": [
    "from sklearn.feature_selection import RFE \n",
    "rfe = RFE(logReg,10)\n",
    "rfe = rfe.fit(X_train,y_train)"
   ]
  },
  {
   "cell_type": "code",
   "execution_count": 19,
   "metadata": {
    "execution": {
     "iopub.execute_input": "2020-08-15T14:29:24.240114Z",
     "iopub.status.busy": "2020-08-15T14:29:24.239038Z",
     "iopub.status.idle": "2020-08-15T14:29:24.243688Z",
     "shell.execute_reply": "2020-08-15T14:29:24.243038Z"
    },
    "papermill": {
     "duration": 0.035509,
     "end_time": "2020-08-15T14:29:24.243811",
     "exception": false,
     "start_time": "2020-08-15T14:29:24.208302",
     "status": "completed"
    },
    "tags": []
   },
   "outputs": [
    {
     "data": {
      "text/plain": [
       "[('fixed acidity', True, 1),\n",
       " ('volatile acidity', True, 1),\n",
       " ('citric acid', True, 1),\n",
       " ('residual sugar', True, 1),\n",
       " ('chlorides', True, 1),\n",
       " ('free sulfur dioxide', True, 1),\n",
       " ('total sulfur dioxide', True, 1),\n",
       " ('density', True, 1),\n",
       " ('sulphates', True, 1),\n",
       " ('alcohol', True, 1),\n",
       " ('pH', False, 2)]"
      ]
     },
     "execution_count": 19,
     "metadata": {},
     "output_type": "execute_result"
    }
   ],
   "source": [
    "## RFE results\n",
    "rfe_results = list(zip(X_train.columns,rfe.support_,rfe.ranking_))\n",
    "sorted(rfe_results,key=lambda x : (x[2]))"
   ]
  },
  {
   "cell_type": "markdown",
   "metadata": {
    "papermill": {
     "duration": 0.022922,
     "end_time": "2020-08-15T14:29:24.290203",
     "exception": false,
     "start_time": "2020-08-15T14:29:24.267281",
     "status": "completed"
    },
    "tags": []
   },
   "source": [
    "- RFE results show that ```pH``` can be dropped. "
   ]
  },
  {
   "cell_type": "code",
   "execution_count": 20,
   "metadata": {
    "execution": {
     "iopub.execute_input": "2020-08-15T14:29:24.345163Z",
     "iopub.status.busy": "2020-08-15T14:29:24.344149Z",
     "iopub.status.idle": "2020-08-15T14:29:24.347127Z",
     "shell.execute_reply": "2020-08-15T14:29:24.347713Z"
    },
    "papermill": {
     "duration": 0.034427,
     "end_time": "2020-08-15T14:29:24.347874",
     "exception": false,
     "start_time": "2020-08-15T14:29:24.313447",
     "status": "completed"
    },
    "tags": []
   },
   "outputs": [],
   "source": [
    "X_train.drop(columns=['pH'],inplace=True)\n",
    "X_test.drop(columns=['pH'],inplace=True)\n"
   ]
  },
  {
   "cell_type": "markdown",
   "metadata": {
    "papermill": {
     "duration": 0.023072,
     "end_time": "2020-08-15T14:29:24.394191",
     "exception": false,
     "start_time": "2020-08-15T14:29:24.371119",
     "status": "completed"
    },
    "tags": []
   },
   "source": [
    "### Assessing Model\n",
    "#### Model 1"
   ]
  },
  {
   "cell_type": "code",
   "execution_count": 21,
   "metadata": {
    "execution": {
     "iopub.execute_input": "2020-08-15T14:29:24.499215Z",
     "iopub.status.busy": "2020-08-15T14:29:24.498384Z",
     "iopub.status.idle": "2020-08-15T14:29:24.528653Z",
     "shell.execute_reply": "2020-08-15T14:29:24.527811Z"
    },
    "papermill": {
     "duration": 0.109676,
     "end_time": "2020-08-15T14:29:24.528800",
     "exception": false,
     "start_time": "2020-08-15T14:29:24.419124",
     "status": "completed"
    },
    "tags": []
   },
   "outputs": [
    {
     "data": {
      "text/html": [
       "<table class=\"simpletable\">\n",
       "<caption>Generalized Linear Model Regression Results</caption>\n",
       "<tr>\n",
       "  <th>Dep. Variable:</th>        <td>quality</td>     <th>  No. Observations:  </th>  <td>  1119</td> \n",
       "</tr>\n",
       "<tr>\n",
       "  <th>Model:</th>                  <td>GLM</td>       <th>  Df Residuals:      </th>  <td>  1108</td> \n",
       "</tr>\n",
       "<tr>\n",
       "  <th>Model Family:</th>        <td>Binomial</td>     <th>  Df Model:          </th>  <td>    10</td> \n",
       "</tr>\n",
       "<tr>\n",
       "  <th>Link Function:</th>         <td>logit</td>      <th>  Scale:             </th> <td>  1.0000</td>\n",
       "</tr>\n",
       "<tr>\n",
       "  <th>Method:</th>                <td>IRLS</td>       <th>  Log-Likelihood:    </th> <td> -570.89</td>\n",
       "</tr>\n",
       "<tr>\n",
       "  <th>Date:</th>            <td>Sat, 15 Aug 2020</td> <th>  Deviance:          </th> <td>  1141.8</td>\n",
       "</tr>\n",
       "<tr>\n",
       "  <th>Time:</th>                <td>14:29:24</td>     <th>  Pearson chi2:      </th> <td>1.08e+03</td>\n",
       "</tr>\n",
       "<tr>\n",
       "  <th>No. Iterations:</th>          <td>5</td>        <th>                     </th>     <td> </td>   \n",
       "</tr>\n",
       "<tr>\n",
       "  <th>Covariance Type:</th>     <td>nonrobust</td>    <th>                     </th>     <td> </td>   \n",
       "</tr>\n",
       "</table>\n",
       "<table class=\"simpletable\">\n",
       "<tr>\n",
       "            <td></td>              <th>coef</th>     <th>std err</th>      <th>z</th>      <th>P>|z|</th>  <th>[0.025</th>    <th>0.975]</th>  \n",
       "</tr>\n",
       "<tr>\n",
       "  <th>const</th>                <td>    0.2631</td> <td>    0.076</td> <td>    3.478</td> <td> 0.001</td> <td>    0.115</td> <td>    0.411</td>\n",
       "</tr>\n",
       "<tr>\n",
       "  <th>fixed acidity</th>        <td>    0.3894</td> <td>    0.141</td> <td>    2.762</td> <td> 0.006</td> <td>    0.113</td> <td>    0.666</td>\n",
       "</tr>\n",
       "<tr>\n",
       "  <th>volatile acidity</th>     <td>   -0.5904</td> <td>    0.103</td> <td>   -5.750</td> <td> 0.000</td> <td>   -0.792</td> <td>   -0.389</td>\n",
       "</tr>\n",
       "<tr>\n",
       "  <th>citric acid</th>          <td>   -0.3128</td> <td>    0.132</td> <td>   -2.367</td> <td> 0.018</td> <td>   -0.572</td> <td>   -0.054</td>\n",
       "</tr>\n",
       "<tr>\n",
       "  <th>residual sugar</th>       <td>    0.2110</td> <td>    0.088</td> <td>    2.389</td> <td> 0.017</td> <td>    0.038</td> <td>    0.384</td>\n",
       "</tr>\n",
       "<tr>\n",
       "  <th>chlorides</th>            <td>   -0.1705</td> <td>    0.088</td> <td>   -1.933</td> <td> 0.053</td> <td>   -0.343</td> <td>    0.002</td>\n",
       "</tr>\n",
       "<tr>\n",
       "  <th>free sulfur dioxide</th>  <td>    0.1609</td> <td>    0.105</td> <td>    1.528</td> <td> 0.127</td> <td>   -0.045</td> <td>    0.367</td>\n",
       "</tr>\n",
       "<tr>\n",
       "  <th>total sulfur dioxide</th> <td>   -0.5228</td> <td>    0.113</td> <td>   -4.645</td> <td> 0.000</td> <td>   -0.743</td> <td>   -0.302</td>\n",
       "</tr>\n",
       "<tr>\n",
       "  <th>density</th>              <td>   -0.2686</td> <td>    0.156</td> <td>   -1.722</td> <td> 0.085</td> <td>   -0.574</td> <td>    0.037</td>\n",
       "</tr>\n",
       "<tr>\n",
       "  <th>sulphates</th>            <td>    0.4816</td> <td>    0.093</td> <td>    5.196</td> <td> 0.000</td> <td>    0.300</td> <td>    0.663</td>\n",
       "</tr>\n",
       "<tr>\n",
       "  <th>alcohol</th>              <td>    0.9287</td> <td>    0.119</td> <td>    7.803</td> <td> 0.000</td> <td>    0.695</td> <td>    1.162</td>\n",
       "</tr>\n",
       "</table>"
      ],
      "text/plain": [
       "<class 'statsmodels.iolib.summary.Summary'>\n",
       "\"\"\"\n",
       "                 Generalized Linear Model Regression Results                  \n",
       "==============================================================================\n",
       "Dep. Variable:                quality   No. Observations:                 1119\n",
       "Model:                            GLM   Df Residuals:                     1108\n",
       "Model Family:                Binomial   Df Model:                           10\n",
       "Link Function:                  logit   Scale:                          1.0000\n",
       "Method:                          IRLS   Log-Likelihood:                -570.89\n",
       "Date:                Sat, 15 Aug 2020   Deviance:                       1141.8\n",
       "Time:                        14:29:24   Pearson chi2:                 1.08e+03\n",
       "No. Iterations:                     5                                         \n",
       "Covariance Type:            nonrobust                                         \n",
       "========================================================================================\n",
       "                           coef    std err          z      P>|z|      [0.025      0.975]\n",
       "----------------------------------------------------------------------------------------\n",
       "const                    0.2631      0.076      3.478      0.001       0.115       0.411\n",
       "fixed acidity            0.3894      0.141      2.762      0.006       0.113       0.666\n",
       "volatile acidity        -0.5904      0.103     -5.750      0.000      -0.792      -0.389\n",
       "citric acid             -0.3128      0.132     -2.367      0.018      -0.572      -0.054\n",
       "residual sugar           0.2110      0.088      2.389      0.017       0.038       0.384\n",
       "chlorides               -0.1705      0.088     -1.933      0.053      -0.343       0.002\n",
       "free sulfur dioxide      0.1609      0.105      1.528      0.127      -0.045       0.367\n",
       "total sulfur dioxide    -0.5228      0.113     -4.645      0.000      -0.743      -0.302\n",
       "density                 -0.2686      0.156     -1.722      0.085      -0.574       0.037\n",
       "sulphates                0.4816      0.093      5.196      0.000       0.300       0.663\n",
       "alcohol                  0.9287      0.119      7.803      0.000       0.695       1.162\n",
       "========================================================================================\n",
       "\"\"\""
      ]
     },
     "execution_count": 21,
     "metadata": {},
     "output_type": "execute_result"
    }
   ],
   "source": [
    "X_train.columns = X_train.columns[X_train.columns !='pH']\n",
    "logm1 = sm.GLM(y_train, sm.add_constant(X_train),family=sm.families.Binomial())\n",
    "logm1.fit().summary()"
   ]
  },
  {
   "cell_type": "markdown",
   "metadata": {
    "papermill": {
     "duration": 0.022995,
     "end_time": "2020-08-15T14:29:24.577954",
     "exception": false,
     "start_time": "2020-08-15T14:29:24.554959",
     "status": "completed"
    },
    "tags": []
   },
   "source": [
    "#### Model 2\n",
    "- Dropping ```free sulfur dioxide``` because of high p-value"
   ]
  },
  {
   "cell_type": "code",
   "execution_count": 22,
   "metadata": {
    "execution": {
     "iopub.execute_input": "2020-08-15T14:29:24.637023Z",
     "iopub.status.busy": "2020-08-15T14:29:24.635962Z",
     "iopub.status.idle": "2020-08-15T14:29:24.666497Z",
     "shell.execute_reply": "2020-08-15T14:29:24.665702Z"
    },
    "papermill": {
     "duration": 0.065474,
     "end_time": "2020-08-15T14:29:24.666654",
     "exception": false,
     "start_time": "2020-08-15T14:29:24.601180",
     "status": "completed"
    },
    "tags": []
   },
   "outputs": [
    {
     "data": {
      "text/html": [
       "<table class=\"simpletable\">\n",
       "<caption>Generalized Linear Model Regression Results</caption>\n",
       "<tr>\n",
       "  <th>Dep. Variable:</th>        <td>quality</td>     <th>  No. Observations:  </th>  <td>  1119</td> \n",
       "</tr>\n",
       "<tr>\n",
       "  <th>Model:</th>                  <td>GLM</td>       <th>  Df Residuals:      </th>  <td>  1109</td> \n",
       "</tr>\n",
       "<tr>\n",
       "  <th>Model Family:</th>        <td>Binomial</td>     <th>  Df Model:          </th>  <td>     9</td> \n",
       "</tr>\n",
       "<tr>\n",
       "  <th>Link Function:</th>         <td>logit</td>      <th>  Scale:             </th> <td>  1.0000</td>\n",
       "</tr>\n",
       "<tr>\n",
       "  <th>Method:</th>                <td>IRLS</td>       <th>  Log-Likelihood:    </th> <td> -572.06</td>\n",
       "</tr>\n",
       "<tr>\n",
       "  <th>Date:</th>            <td>Sat, 15 Aug 2020</td> <th>  Deviance:          </th> <td>  1144.1</td>\n",
       "</tr>\n",
       "<tr>\n",
       "  <th>Time:</th>                <td>14:29:24</td>     <th>  Pearson chi2:      </th> <td>1.08e+03</td>\n",
       "</tr>\n",
       "<tr>\n",
       "  <th>No. Iterations:</th>          <td>5</td>        <th>                     </th>     <td> </td>   \n",
       "</tr>\n",
       "<tr>\n",
       "  <th>Covariance Type:</th>     <td>nonrobust</td>    <th>                     </th>     <td> </td>   \n",
       "</tr>\n",
       "</table>\n",
       "<table class=\"simpletable\">\n",
       "<tr>\n",
       "            <td></td>              <th>coef</th>     <th>std err</th>      <th>z</th>      <th>P>|z|</th>  <th>[0.025</th>    <th>0.975]</th>  \n",
       "</tr>\n",
       "<tr>\n",
       "  <th>const</th>                <td>    0.2687</td> <td>    0.075</td> <td>    3.561</td> <td> 0.000</td> <td>    0.121</td> <td>    0.417</td>\n",
       "</tr>\n",
       "<tr>\n",
       "  <th>fixed acidity</th>        <td>    0.4006</td> <td>    0.141</td> <td>    2.845</td> <td> 0.004</td> <td>    0.125</td> <td>    0.677</td>\n",
       "</tr>\n",
       "<tr>\n",
       "  <th>volatile acidity</th>     <td>   -0.6186</td> <td>    0.102</td> <td>   -6.089</td> <td> 0.000</td> <td>   -0.818</td> <td>   -0.420</td>\n",
       "</tr>\n",
       "<tr>\n",
       "  <th>citric acid</th>          <td>   -0.3548</td> <td>    0.130</td> <td>   -2.738</td> <td> 0.006</td> <td>   -0.609</td> <td>   -0.101</td>\n",
       "</tr>\n",
       "<tr>\n",
       "  <th>residual sugar</th>       <td>    0.2323</td> <td>    0.088</td> <td>    2.629</td> <td> 0.009</td> <td>    0.059</td> <td>    0.406</td>\n",
       "</tr>\n",
       "<tr>\n",
       "  <th>chlorides</th>            <td>   -0.1646</td> <td>    0.088</td> <td>   -1.868</td> <td> 0.062</td> <td>   -0.337</td> <td>    0.008</td>\n",
       "</tr>\n",
       "<tr>\n",
       "  <th>total sulfur dioxide</th> <td>   -0.4099</td> <td>    0.083</td> <td>   -4.911</td> <td> 0.000</td> <td>   -0.574</td> <td>   -0.246</td>\n",
       "</tr>\n",
       "<tr>\n",
       "  <th>density</th>              <td>   -0.2762</td> <td>    0.156</td> <td>   -1.771</td> <td> 0.077</td> <td>   -0.582</td> <td>    0.029</td>\n",
       "</tr>\n",
       "<tr>\n",
       "  <th>sulphates</th>            <td>    0.4918</td> <td>    0.093</td> <td>    5.279</td> <td> 0.000</td> <td>    0.309</td> <td>    0.674</td>\n",
       "</tr>\n",
       "<tr>\n",
       "  <th>alcohol</th>              <td>    0.9411</td> <td>    0.119</td> <td>    7.892</td> <td> 0.000</td> <td>    0.707</td> <td>    1.175</td>\n",
       "</tr>\n",
       "</table>"
      ],
      "text/plain": [
       "<class 'statsmodels.iolib.summary.Summary'>\n",
       "\"\"\"\n",
       "                 Generalized Linear Model Regression Results                  \n",
       "==============================================================================\n",
       "Dep. Variable:                quality   No. Observations:                 1119\n",
       "Model:                            GLM   Df Residuals:                     1109\n",
       "Model Family:                Binomial   Df Model:                            9\n",
       "Link Function:                  logit   Scale:                          1.0000\n",
       "Method:                          IRLS   Log-Likelihood:                -572.06\n",
       "Date:                Sat, 15 Aug 2020   Deviance:                       1144.1\n",
       "Time:                        14:29:24   Pearson chi2:                 1.08e+03\n",
       "No. Iterations:                     5                                         \n",
       "Covariance Type:            nonrobust                                         \n",
       "========================================================================================\n",
       "                           coef    std err          z      P>|z|      [0.025      0.975]\n",
       "----------------------------------------------------------------------------------------\n",
       "const                    0.2687      0.075      3.561      0.000       0.121       0.417\n",
       "fixed acidity            0.4006      0.141      2.845      0.004       0.125       0.677\n",
       "volatile acidity        -0.6186      0.102     -6.089      0.000      -0.818      -0.420\n",
       "citric acid             -0.3548      0.130     -2.738      0.006      -0.609      -0.101\n",
       "residual sugar           0.2323      0.088      2.629      0.009       0.059       0.406\n",
       "chlorides               -0.1646      0.088     -1.868      0.062      -0.337       0.008\n",
       "total sulfur dioxide    -0.4099      0.083     -4.911      0.000      -0.574      -0.246\n",
       "density                 -0.2762      0.156     -1.771      0.077      -0.582       0.029\n",
       "sulphates                0.4918      0.093      5.279      0.000       0.309       0.674\n",
       "alcohol                  0.9411      0.119      7.892      0.000       0.707       1.175\n",
       "========================================================================================\n",
       "\"\"\""
      ]
     },
     "execution_count": 22,
     "metadata": {},
     "output_type": "execute_result"
    }
   ],
   "source": [
    "X = X_train.loc[:,X_train.columns != 'free sulfur dioxide']\n",
    "logm2 = sm.GLM(y_train, sm.add_constant(X),family=sm.families.Binomial())\n",
    "logm2.fit().summary()"
   ]
  },
  {
   "cell_type": "markdown",
   "metadata": {
    "papermill": {
     "duration": 0.023667,
     "end_time": "2020-08-15T14:29:24.714642",
     "exception": false,
     "start_time": "2020-08-15T14:29:24.690975",
     "status": "completed"
    },
    "tags": []
   },
   "source": [
    "### Model 3\n",
    "- dropping ```free sulfur dioxide``` because of high p-value"
   ]
  },
  {
   "cell_type": "code",
   "execution_count": 23,
   "metadata": {
    "execution": {
     "iopub.execute_input": "2020-08-15T14:29:24.774039Z",
     "iopub.status.busy": "2020-08-15T14:29:24.769746Z",
     "iopub.status.idle": "2020-08-15T14:29:24.803280Z",
     "shell.execute_reply": "2020-08-15T14:29:24.802718Z"
    },
    "papermill": {
     "duration": 0.064931,
     "end_time": "2020-08-15T14:29:24.803433",
     "exception": false,
     "start_time": "2020-08-15T14:29:24.738502",
     "status": "completed"
    },
    "tags": []
   },
   "outputs": [
    {
     "data": {
      "text/html": [
       "<table class=\"simpletable\">\n",
       "<caption>Generalized Linear Model Regression Results</caption>\n",
       "<tr>\n",
       "  <th>Dep. Variable:</th>        <td>quality</td>     <th>  No. Observations:  </th>  <td>  1119</td> \n",
       "</tr>\n",
       "<tr>\n",
       "  <th>Model:</th>                  <td>GLM</td>       <th>  Df Residuals:      </th>  <td>  1109</td> \n",
       "</tr>\n",
       "<tr>\n",
       "  <th>Model Family:</th>        <td>Binomial</td>     <th>  Df Model:          </th>  <td>     9</td> \n",
       "</tr>\n",
       "<tr>\n",
       "  <th>Link Function:</th>         <td>logit</td>      <th>  Scale:             </th> <td>  1.0000</td>\n",
       "</tr>\n",
       "<tr>\n",
       "  <th>Method:</th>                <td>IRLS</td>       <th>  Log-Likelihood:    </th> <td> -572.06</td>\n",
       "</tr>\n",
       "<tr>\n",
       "  <th>Date:</th>            <td>Sat, 15 Aug 2020</td> <th>  Deviance:          </th> <td>  1144.1</td>\n",
       "</tr>\n",
       "<tr>\n",
       "  <th>Time:</th>                <td>14:29:24</td>     <th>  Pearson chi2:      </th> <td>1.08e+03</td>\n",
       "</tr>\n",
       "<tr>\n",
       "  <th>No. Iterations:</th>          <td>5</td>        <th>                     </th>     <td> </td>   \n",
       "</tr>\n",
       "<tr>\n",
       "  <th>Covariance Type:</th>     <td>nonrobust</td>    <th>                     </th>     <td> </td>   \n",
       "</tr>\n",
       "</table>\n",
       "<table class=\"simpletable\">\n",
       "<tr>\n",
       "            <td></td>              <th>coef</th>     <th>std err</th>      <th>z</th>      <th>P>|z|</th>  <th>[0.025</th>    <th>0.975]</th>  \n",
       "</tr>\n",
       "<tr>\n",
       "  <th>const</th>                <td>    0.2687</td> <td>    0.075</td> <td>    3.561</td> <td> 0.000</td> <td>    0.121</td> <td>    0.417</td>\n",
       "</tr>\n",
       "<tr>\n",
       "  <th>fixed acidity</th>        <td>    0.4006</td> <td>    0.141</td> <td>    2.845</td> <td> 0.004</td> <td>    0.125</td> <td>    0.677</td>\n",
       "</tr>\n",
       "<tr>\n",
       "  <th>volatile acidity</th>     <td>   -0.6186</td> <td>    0.102</td> <td>   -6.089</td> <td> 0.000</td> <td>   -0.818</td> <td>   -0.420</td>\n",
       "</tr>\n",
       "<tr>\n",
       "  <th>citric acid</th>          <td>   -0.3548</td> <td>    0.130</td> <td>   -2.738</td> <td> 0.006</td> <td>   -0.609</td> <td>   -0.101</td>\n",
       "</tr>\n",
       "<tr>\n",
       "  <th>residual sugar</th>       <td>    0.2323</td> <td>    0.088</td> <td>    2.629</td> <td> 0.009</td> <td>    0.059</td> <td>    0.406</td>\n",
       "</tr>\n",
       "<tr>\n",
       "  <th>chlorides</th>            <td>   -0.1646</td> <td>    0.088</td> <td>   -1.868</td> <td> 0.062</td> <td>   -0.337</td> <td>    0.008</td>\n",
       "</tr>\n",
       "<tr>\n",
       "  <th>total sulfur dioxide</th> <td>   -0.4099</td> <td>    0.083</td> <td>   -4.911</td> <td> 0.000</td> <td>   -0.574</td> <td>   -0.246</td>\n",
       "</tr>\n",
       "<tr>\n",
       "  <th>density</th>              <td>   -0.2762</td> <td>    0.156</td> <td>   -1.771</td> <td> 0.077</td> <td>   -0.582</td> <td>    0.029</td>\n",
       "</tr>\n",
       "<tr>\n",
       "  <th>sulphates</th>            <td>    0.4918</td> <td>    0.093</td> <td>    5.279</td> <td> 0.000</td> <td>    0.309</td> <td>    0.674</td>\n",
       "</tr>\n",
       "<tr>\n",
       "  <th>alcohol</th>              <td>    0.9411</td> <td>    0.119</td> <td>    7.892</td> <td> 0.000</td> <td>    0.707</td> <td>    1.175</td>\n",
       "</tr>\n",
       "</table>"
      ],
      "text/plain": [
       "<class 'statsmodels.iolib.summary.Summary'>\n",
       "\"\"\"\n",
       "                 Generalized Linear Model Regression Results                  \n",
       "==============================================================================\n",
       "Dep. Variable:                quality   No. Observations:                 1119\n",
       "Model:                            GLM   Df Residuals:                     1109\n",
       "Model Family:                Binomial   Df Model:                            9\n",
       "Link Function:                  logit   Scale:                          1.0000\n",
       "Method:                          IRLS   Log-Likelihood:                -572.06\n",
       "Date:                Sat, 15 Aug 2020   Deviance:                       1144.1\n",
       "Time:                        14:29:24   Pearson chi2:                 1.08e+03\n",
       "No. Iterations:                     5                                         \n",
       "Covariance Type:            nonrobust                                         \n",
       "========================================================================================\n",
       "                           coef    std err          z      P>|z|      [0.025      0.975]\n",
       "----------------------------------------------------------------------------------------\n",
       "const                    0.2687      0.075      3.561      0.000       0.121       0.417\n",
       "fixed acidity            0.4006      0.141      2.845      0.004       0.125       0.677\n",
       "volatile acidity        -0.6186      0.102     -6.089      0.000      -0.818      -0.420\n",
       "citric acid             -0.3548      0.130     -2.738      0.006      -0.609      -0.101\n",
       "residual sugar           0.2323      0.088      2.629      0.009       0.059       0.406\n",
       "chlorides               -0.1646      0.088     -1.868      0.062      -0.337       0.008\n",
       "total sulfur dioxide    -0.4099      0.083     -4.911      0.000      -0.574      -0.246\n",
       "density                 -0.2762      0.156     -1.771      0.077      -0.582       0.029\n",
       "sulphates                0.4918      0.093      5.279      0.000       0.309       0.674\n",
       "alcohol                  0.9411      0.119      7.892      0.000       0.707       1.175\n",
       "========================================================================================\n",
       "\"\"\""
      ]
     },
     "execution_count": 23,
     "metadata": {},
     "output_type": "execute_result"
    }
   ],
   "source": [
    "X = X.loc[:,X.columns != 'free sulfur dioxide']\n",
    "logm3 = sm.GLM(y_train, sm.add_constant(X),family=sm.families.Binomial())\n",
    "logm3.fit().summary()"
   ]
  },
  {
   "cell_type": "markdown",
   "metadata": {
    "papermill": {
     "duration": 0.024375,
     "end_time": "2020-08-15T14:29:24.852510",
     "exception": false,
     "start_time": "2020-08-15T14:29:24.828135",
     "status": "completed"
    },
    "tags": []
   },
   "source": [
    "### Model 4 \n",
    "- Dropping ```density``` because of high p-value"
   ]
  },
  {
   "cell_type": "code",
   "execution_count": 24,
   "metadata": {
    "execution": {
     "iopub.execute_input": "2020-08-15T14:29:24.912245Z",
     "iopub.status.busy": "2020-08-15T14:29:24.909661Z",
     "iopub.status.idle": "2020-08-15T14:29:24.942957Z",
     "shell.execute_reply": "2020-08-15T14:29:24.942204Z"
    },
    "papermill": {
     "duration": 0.066508,
     "end_time": "2020-08-15T14:29:24.943093",
     "exception": false,
     "start_time": "2020-08-15T14:29:24.876585",
     "status": "completed"
    },
    "tags": []
   },
   "outputs": [
    {
     "data": {
      "text/html": [
       "<table class=\"simpletable\">\n",
       "<caption>Generalized Linear Model Regression Results</caption>\n",
       "<tr>\n",
       "  <th>Dep. Variable:</th>        <td>quality</td>     <th>  No. Observations:  </th>  <td>  1119</td> \n",
       "</tr>\n",
       "<tr>\n",
       "  <th>Model:</th>                  <td>GLM</td>       <th>  Df Residuals:      </th>  <td>  1110</td> \n",
       "</tr>\n",
       "<tr>\n",
       "  <th>Model Family:</th>        <td>Binomial</td>     <th>  Df Model:          </th>  <td>     8</td> \n",
       "</tr>\n",
       "<tr>\n",
       "  <th>Link Function:</th>         <td>logit</td>      <th>  Scale:             </th> <td>  1.0000</td>\n",
       "</tr>\n",
       "<tr>\n",
       "  <th>Method:</th>                <td>IRLS</td>       <th>  Log-Likelihood:    </th> <td> -573.64</td>\n",
       "</tr>\n",
       "<tr>\n",
       "  <th>Date:</th>            <td>Sat, 15 Aug 2020</td> <th>  Deviance:          </th> <td>  1147.3</td>\n",
       "</tr>\n",
       "<tr>\n",
       "  <th>Time:</th>                <td>14:29:24</td>     <th>  Pearson chi2:      </th> <td>1.10e+03</td>\n",
       "</tr>\n",
       "<tr>\n",
       "  <th>No. Iterations:</th>          <td>5</td>        <th>                     </th>     <td> </td>   \n",
       "</tr>\n",
       "<tr>\n",
       "  <th>Covariance Type:</th>     <td>nonrobust</td>    <th>                     </th>     <td> </td>   \n",
       "</tr>\n",
       "</table>\n",
       "<table class=\"simpletable\">\n",
       "<tr>\n",
       "            <td></td>              <th>coef</th>     <th>std err</th>      <th>z</th>      <th>P>|z|</th>  <th>[0.025</th>    <th>0.975]</th>  \n",
       "</tr>\n",
       "<tr>\n",
       "  <th>const</th>                <td>    0.2590</td> <td>    0.075</td> <td>    3.451</td> <td> 0.001</td> <td>    0.112</td> <td>    0.406</td>\n",
       "</tr>\n",
       "<tr>\n",
       "  <th>fixed acidity</th>        <td>    0.2393</td> <td>    0.107</td> <td>    2.234</td> <td> 0.025</td> <td>    0.029</td> <td>    0.449</td>\n",
       "</tr>\n",
       "<tr>\n",
       "  <th>volatile acidity</th>     <td>   -0.6496</td> <td>    0.101</td> <td>   -6.426</td> <td> 0.000</td> <td>   -0.848</td> <td>   -0.451</td>\n",
       "</tr>\n",
       "<tr>\n",
       "  <th>citric acid</th>          <td>   -0.3570</td> <td>    0.130</td> <td>   -2.747</td> <td> 0.006</td> <td>   -0.612</td> <td>   -0.102</td>\n",
       "</tr>\n",
       "<tr>\n",
       "  <th>residual sugar</th>       <td>    0.1478</td> <td>    0.074</td> <td>    1.998</td> <td> 0.046</td> <td>    0.003</td> <td>    0.293</td>\n",
       "</tr>\n",
       "<tr>\n",
       "  <th>chlorides</th>            <td>   -0.1540</td> <td>    0.088</td> <td>   -1.748</td> <td> 0.080</td> <td>   -0.327</td> <td>    0.019</td>\n",
       "</tr>\n",
       "<tr>\n",
       "  <th>total sulfur dioxide</th> <td>   -0.4002</td> <td>    0.083</td> <td>   -4.822</td> <td> 0.000</td> <td>   -0.563</td> <td>   -0.238</td>\n",
       "</tr>\n",
       "<tr>\n",
       "  <th>sulphates</th>            <td>    0.4584</td> <td>    0.090</td> <td>    5.090</td> <td> 0.000</td> <td>    0.282</td> <td>    0.635</td>\n",
       "</tr>\n",
       "<tr>\n",
       "  <th>alcohol</th>              <td>    1.0615</td> <td>    0.099</td> <td>   10.722</td> <td> 0.000</td> <td>    0.867</td> <td>    1.255</td>\n",
       "</tr>\n",
       "</table>"
      ],
      "text/plain": [
       "<class 'statsmodels.iolib.summary.Summary'>\n",
       "\"\"\"\n",
       "                 Generalized Linear Model Regression Results                  \n",
       "==============================================================================\n",
       "Dep. Variable:                quality   No. Observations:                 1119\n",
       "Model:                            GLM   Df Residuals:                     1110\n",
       "Model Family:                Binomial   Df Model:                            8\n",
       "Link Function:                  logit   Scale:                          1.0000\n",
       "Method:                          IRLS   Log-Likelihood:                -573.64\n",
       "Date:                Sat, 15 Aug 2020   Deviance:                       1147.3\n",
       "Time:                        14:29:24   Pearson chi2:                 1.10e+03\n",
       "No. Iterations:                     5                                         \n",
       "Covariance Type:            nonrobust                                         \n",
       "========================================================================================\n",
       "                           coef    std err          z      P>|z|      [0.025      0.975]\n",
       "----------------------------------------------------------------------------------------\n",
       "const                    0.2590      0.075      3.451      0.001       0.112       0.406\n",
       "fixed acidity            0.2393      0.107      2.234      0.025       0.029       0.449\n",
       "volatile acidity        -0.6496      0.101     -6.426      0.000      -0.848      -0.451\n",
       "citric acid             -0.3570      0.130     -2.747      0.006      -0.612      -0.102\n",
       "residual sugar           0.1478      0.074      1.998      0.046       0.003       0.293\n",
       "chlorides               -0.1540      0.088     -1.748      0.080      -0.327       0.019\n",
       "total sulfur dioxide    -0.4002      0.083     -4.822      0.000      -0.563      -0.238\n",
       "sulphates                0.4584      0.090      5.090      0.000       0.282       0.635\n",
       "alcohol                  1.0615      0.099     10.722      0.000       0.867       1.255\n",
       "========================================================================================\n",
       "\"\"\""
      ]
     },
     "execution_count": 24,
     "metadata": {},
     "output_type": "execute_result"
    }
   ],
   "source": [
    "X = X.loc[:,X.columns != 'density']\n",
    "logm4 = sm.GLM(y_train, sm.add_constant(X),family=sm.families.Binomial())\n",
    "logm4.fit().summary()"
   ]
  },
  {
   "cell_type": "markdown",
   "metadata": {
    "papermill": {
     "duration": 0.024437,
     "end_time": "2020-08-15T14:29:24.992028",
     "exception": false,
     "start_time": "2020-08-15T14:29:24.967591",
     "status": "completed"
    },
    "tags": []
   },
   "source": [
    "### Model 5 \n",
    "- dropping ```chlorides``` because of high p-value"
   ]
  },
  {
   "cell_type": "code",
   "execution_count": 25,
   "metadata": {
    "execution": {
     "iopub.execute_input": "2020-08-15T14:29:25.053301Z",
     "iopub.status.busy": "2020-08-15T14:29:25.050305Z",
     "iopub.status.idle": "2020-08-15T14:29:25.081474Z",
     "shell.execute_reply": "2020-08-15T14:29:25.080747Z"
    },
    "papermill": {
     "duration": 0.064791,
     "end_time": "2020-08-15T14:29:25.081635",
     "exception": false,
     "start_time": "2020-08-15T14:29:25.016844",
     "status": "completed"
    },
    "tags": []
   },
   "outputs": [
    {
     "data": {
      "text/html": [
       "<table class=\"simpletable\">\n",
       "<caption>Generalized Linear Model Regression Results</caption>\n",
       "<tr>\n",
       "  <th>Dep. Variable:</th>        <td>quality</td>     <th>  No. Observations:  </th>  <td>  1119</td> \n",
       "</tr>\n",
       "<tr>\n",
       "  <th>Model:</th>                  <td>GLM</td>       <th>  Df Residuals:      </th>  <td>  1111</td> \n",
       "</tr>\n",
       "<tr>\n",
       "  <th>Model Family:</th>        <td>Binomial</td>     <th>  Df Model:          </th>  <td>     7</td> \n",
       "</tr>\n",
       "<tr>\n",
       "  <th>Link Function:</th>         <td>logit</td>      <th>  Scale:             </th> <td>  1.0000</td>\n",
       "</tr>\n",
       "<tr>\n",
       "  <th>Method:</th>                <td>IRLS</td>       <th>  Log-Likelihood:    </th> <td> -575.22</td>\n",
       "</tr>\n",
       "<tr>\n",
       "  <th>Date:</th>            <td>Sat, 15 Aug 2020</td> <th>  Deviance:          </th> <td>  1150.4</td>\n",
       "</tr>\n",
       "<tr>\n",
       "  <th>Time:</th>                <td>14:29:25</td>     <th>  Pearson chi2:      </th> <td>1.11e+03</td>\n",
       "</tr>\n",
       "<tr>\n",
       "  <th>No. Iterations:</th>          <td>5</td>        <th>                     </th>     <td> </td>   \n",
       "</tr>\n",
       "<tr>\n",
       "  <th>Covariance Type:</th>     <td>nonrobust</td>    <th>                     </th>     <td> </td>   \n",
       "</tr>\n",
       "</table>\n",
       "<table class=\"simpletable\">\n",
       "<tr>\n",
       "            <td></td>              <th>coef</th>     <th>std err</th>      <th>z</th>      <th>P>|z|</th>  <th>[0.025</th>    <th>0.975]</th>  \n",
       "</tr>\n",
       "<tr>\n",
       "  <th>const</th>                <td>    0.2577</td> <td>    0.075</td> <td>    3.438</td> <td> 0.001</td> <td>    0.111</td> <td>    0.405</td>\n",
       "</tr>\n",
       "<tr>\n",
       "  <th>fixed acidity</th>        <td>    0.2787</td> <td>    0.105</td> <td>    2.659</td> <td> 0.008</td> <td>    0.073</td> <td>    0.484</td>\n",
       "</tr>\n",
       "<tr>\n",
       "  <th>volatile acidity</th>     <td>   -0.6975</td> <td>    0.098</td> <td>   -7.105</td> <td> 0.000</td> <td>   -0.890</td> <td>   -0.505</td>\n",
       "</tr>\n",
       "<tr>\n",
       "  <th>citric acid</th>          <td>   -0.4242</td> <td>    0.125</td> <td>   -3.401</td> <td> 0.001</td> <td>   -0.669</td> <td>   -0.180</td>\n",
       "</tr>\n",
       "<tr>\n",
       "  <th>residual sugar</th>       <td>    0.1398</td> <td>    0.073</td> <td>    1.914</td> <td> 0.056</td> <td>   -0.003</td> <td>    0.283</td>\n",
       "</tr>\n",
       "<tr>\n",
       "  <th>total sulfur dioxide</th> <td>   -0.3884</td> <td>    0.082</td> <td>   -4.712</td> <td> 0.000</td> <td>   -0.550</td> <td>   -0.227</td>\n",
       "</tr>\n",
       "<tr>\n",
       "  <th>sulphates</th>            <td>    0.3856</td> <td>    0.078</td> <td>    4.946</td> <td> 0.000</td> <td>    0.233</td> <td>    0.538</td>\n",
       "</tr>\n",
       "<tr>\n",
       "  <th>alcohol</th>              <td>    1.1119</td> <td>    0.096</td> <td>   11.633</td> <td> 0.000</td> <td>    0.925</td> <td>    1.299</td>\n",
       "</tr>\n",
       "</table>"
      ],
      "text/plain": [
       "<class 'statsmodels.iolib.summary.Summary'>\n",
       "\"\"\"\n",
       "                 Generalized Linear Model Regression Results                  \n",
       "==============================================================================\n",
       "Dep. Variable:                quality   No. Observations:                 1119\n",
       "Model:                            GLM   Df Residuals:                     1111\n",
       "Model Family:                Binomial   Df Model:                            7\n",
       "Link Function:                  logit   Scale:                          1.0000\n",
       "Method:                          IRLS   Log-Likelihood:                -575.22\n",
       "Date:                Sat, 15 Aug 2020   Deviance:                       1150.4\n",
       "Time:                        14:29:25   Pearson chi2:                 1.11e+03\n",
       "No. Iterations:                     5                                         \n",
       "Covariance Type:            nonrobust                                         \n",
       "========================================================================================\n",
       "                           coef    std err          z      P>|z|      [0.025      0.975]\n",
       "----------------------------------------------------------------------------------------\n",
       "const                    0.2577      0.075      3.438      0.001       0.111       0.405\n",
       "fixed acidity            0.2787      0.105      2.659      0.008       0.073       0.484\n",
       "volatile acidity        -0.6975      0.098     -7.105      0.000      -0.890      -0.505\n",
       "citric acid             -0.4242      0.125     -3.401      0.001      -0.669      -0.180\n",
       "residual sugar           0.1398      0.073      1.914      0.056      -0.003       0.283\n",
       "total sulfur dioxide    -0.3884      0.082     -4.712      0.000      -0.550      -0.227\n",
       "sulphates                0.3856      0.078      4.946      0.000       0.233       0.538\n",
       "alcohol                  1.1119      0.096     11.633      0.000       0.925       1.299\n",
       "========================================================================================\n",
       "\"\"\""
      ]
     },
     "execution_count": 25,
     "metadata": {},
     "output_type": "execute_result"
    }
   ],
   "source": [
    "X = X.loc[:,X.columns != 'chlorides']\n",
    "logm5 = sm.GLM(y_train, sm.add_constant(X),family=sm.families.Binomial())\n",
    "logm5.fit().summary()"
   ]
  },
  {
   "cell_type": "markdown",
   "metadata": {
    "papermill": {
     "duration": 0.024958,
     "end_time": "2020-08-15T14:29:25.134922",
     "exception": false,
     "start_time": "2020-08-15T14:29:25.109964",
     "status": "completed"
    },
    "tags": []
   },
   "source": [
    "### Model 6 \n",
    "-- Dropping ```residual sugar``` because of high p-value"
   ]
  },
  {
   "cell_type": "code",
   "execution_count": 26,
   "metadata": {
    "execution": {
     "iopub.execute_input": "2020-08-15T14:29:25.196116Z",
     "iopub.status.busy": "2020-08-15T14:29:25.194230Z",
     "iopub.status.idle": "2020-08-15T14:29:25.223348Z",
     "shell.execute_reply": "2020-08-15T14:29:25.222645Z"
    },
    "papermill": {
     "duration": 0.063384,
     "end_time": "2020-08-15T14:29:25.223494",
     "exception": false,
     "start_time": "2020-08-15T14:29:25.160110",
     "status": "completed"
    },
    "tags": []
   },
   "outputs": [
    {
     "data": {
      "text/html": [
       "<table class=\"simpletable\">\n",
       "<caption>Generalized Linear Model Regression Results</caption>\n",
       "<tr>\n",
       "  <th>Dep. Variable:</th>        <td>quality</td>     <th>  No. Observations:  </th>  <td>  1119</td> \n",
       "</tr>\n",
       "<tr>\n",
       "  <th>Model:</th>                  <td>GLM</td>       <th>  Df Residuals:      </th>  <td>  1112</td> \n",
       "</tr>\n",
       "<tr>\n",
       "  <th>Model Family:</th>        <td>Binomial</td>     <th>  Df Model:          </th>  <td>     6</td> \n",
       "</tr>\n",
       "<tr>\n",
       "  <th>Link Function:</th>         <td>logit</td>      <th>  Scale:             </th> <td>  1.0000</td>\n",
       "</tr>\n",
       "<tr>\n",
       "  <th>Method:</th>                <td>IRLS</td>       <th>  Log-Likelihood:    </th> <td> -577.02</td>\n",
       "</tr>\n",
       "<tr>\n",
       "  <th>Date:</th>            <td>Sat, 15 Aug 2020</td> <th>  Deviance:          </th> <td>  1154.0</td>\n",
       "</tr>\n",
       "<tr>\n",
       "  <th>Time:</th>                <td>14:29:25</td>     <th>  Pearson chi2:      </th> <td>1.10e+03</td>\n",
       "</tr>\n",
       "<tr>\n",
       "  <th>No. Iterations:</th>          <td>5</td>        <th>                     </th>     <td> </td>   \n",
       "</tr>\n",
       "<tr>\n",
       "  <th>Covariance Type:</th>     <td>nonrobust</td>    <th>                     </th>     <td> </td>   \n",
       "</tr>\n",
       "</table>\n",
       "<table class=\"simpletable\">\n",
       "<tr>\n",
       "            <td></td>              <th>coef</th>     <th>std err</th>      <th>z</th>      <th>P>|z|</th>  <th>[0.025</th>    <th>0.975]</th>  \n",
       "</tr>\n",
       "<tr>\n",
       "  <th>const</th>                <td>    0.2593</td> <td>    0.075</td> <td>    3.465</td> <td> 0.001</td> <td>    0.113</td> <td>    0.406</td>\n",
       "</tr>\n",
       "<tr>\n",
       "  <th>fixed acidity</th>        <td>    0.2883</td> <td>    0.105</td> <td>    2.753</td> <td> 0.006</td> <td>    0.083</td> <td>    0.494</td>\n",
       "</tr>\n",
       "<tr>\n",
       "  <th>volatile acidity</th>     <td>   -0.6874</td> <td>    0.097</td> <td>   -7.064</td> <td> 0.000</td> <td>   -0.878</td> <td>   -0.497</td>\n",
       "</tr>\n",
       "<tr>\n",
       "  <th>citric acid</th>          <td>   -0.4051</td> <td>    0.124</td> <td>   -3.271</td> <td> 0.001</td> <td>   -0.648</td> <td>   -0.162</td>\n",
       "</tr>\n",
       "<tr>\n",
       "  <th>total sulfur dioxide</th> <td>   -0.3479</td> <td>    0.079</td> <td>   -4.402</td> <td> 0.000</td> <td>   -0.503</td> <td>   -0.193</td>\n",
       "</tr>\n",
       "<tr>\n",
       "  <th>sulphates</th>            <td>    0.3769</td> <td>    0.078</td> <td>    4.846</td> <td> 0.000</td> <td>    0.224</td> <td>    0.529</td>\n",
       "</tr>\n",
       "<tr>\n",
       "  <th>alcohol</th>              <td>    1.1186</td> <td>    0.095</td> <td>   11.716</td> <td> 0.000</td> <td>    0.931</td> <td>    1.306</td>\n",
       "</tr>\n",
       "</table>"
      ],
      "text/plain": [
       "<class 'statsmodels.iolib.summary.Summary'>\n",
       "\"\"\"\n",
       "                 Generalized Linear Model Regression Results                  \n",
       "==============================================================================\n",
       "Dep. Variable:                quality   No. Observations:                 1119\n",
       "Model:                            GLM   Df Residuals:                     1112\n",
       "Model Family:                Binomial   Df Model:                            6\n",
       "Link Function:                  logit   Scale:                          1.0000\n",
       "Method:                          IRLS   Log-Likelihood:                -577.02\n",
       "Date:                Sat, 15 Aug 2020   Deviance:                       1154.0\n",
       "Time:                        14:29:25   Pearson chi2:                 1.10e+03\n",
       "No. Iterations:                     5                                         \n",
       "Covariance Type:            nonrobust                                         \n",
       "========================================================================================\n",
       "                           coef    std err          z      P>|z|      [0.025      0.975]\n",
       "----------------------------------------------------------------------------------------\n",
       "const                    0.2593      0.075      3.465      0.001       0.113       0.406\n",
       "fixed acidity            0.2883      0.105      2.753      0.006       0.083       0.494\n",
       "volatile acidity        -0.6874      0.097     -7.064      0.000      -0.878      -0.497\n",
       "citric acid             -0.4051      0.124     -3.271      0.001      -0.648      -0.162\n",
       "total sulfur dioxide    -0.3479      0.079     -4.402      0.000      -0.503      -0.193\n",
       "sulphates                0.3769      0.078      4.846      0.000       0.224       0.529\n",
       "alcohol                  1.1186      0.095     11.716      0.000       0.931       1.306\n",
       "========================================================================================\n",
       "\"\"\""
      ]
     },
     "execution_count": 26,
     "metadata": {},
     "output_type": "execute_result"
    }
   ],
   "source": [
    "X = X.loc[:,X.columns != 'residual sugar']\n",
    "logm6 = sm.GLM(y_train, sm.add_constant(X),family=sm.families.Binomial())\n",
    "logm6.fit().summary()"
   ]
  },
  {
   "cell_type": "markdown",
   "metadata": {
    "papermill": {
     "duration": 0.025357,
     "end_time": "2020-08-15T14:29:25.274426",
     "exception": false,
     "start_time": "2020-08-15T14:29:25.249069",
     "status": "completed"
    },
    "tags": []
   },
   "source": [
    "- All the p-values are very low. So the variable which remain have statistically significant relationships. "
   ]
  },
  {
   "cell_type": "markdown",
   "metadata": {
    "papermill": {
     "duration": 0.02481,
     "end_time": "2020-08-15T14:29:25.324770",
     "exception": false,
     "start_time": "2020-08-15T14:29:25.299960",
     "status": "completed"
    },
    "tags": []
   },
   "source": [
    "### Checking Multi-Collinearity"
   ]
  },
  {
   "cell_type": "code",
   "execution_count": 27,
   "metadata": {
    "execution": {
     "iopub.execute_input": "2020-08-15T14:29:25.384045Z",
     "iopub.status.busy": "2020-08-15T14:29:25.383274Z",
     "iopub.status.idle": "2020-08-15T14:29:25.389311Z",
     "shell.execute_reply": "2020-08-15T14:29:25.388753Z"
    },
    "papermill": {
     "duration": 0.039465,
     "end_time": "2020-08-15T14:29:25.389462",
     "exception": false,
     "start_time": "2020-08-15T14:29:25.349997",
     "status": "completed"
    },
    "tags": []
   },
   "outputs": [],
   "source": [
    "from statsmodels.stats.outliers_influence import variance_inflation_factor\n",
    "def vif(X) : \n",
    "    df = sm.add_constant(X)\n",
    "    vif = [variance_inflation_factor(df.values,i) for i in range(df.shape[1])]\n",
    "    vif_frame = pd.DataFrame({'vif' : vif[0:]},index = df.columns).reset_index()\n",
    "    print(vif_frame.sort_values(by='vif',ascending=False))"
   ]
  },
  {
   "cell_type": "code",
   "execution_count": 28,
   "metadata": {
    "execution": {
     "iopub.execute_input": "2020-08-15T14:29:25.447622Z",
     "iopub.status.busy": "2020-08-15T14:29:25.446415Z",
     "iopub.status.idle": "2020-08-15T14:29:25.461588Z",
     "shell.execute_reply": "2020-08-15T14:29:25.460842Z"
    },
    "papermill": {
     "duration": 0.047165,
     "end_time": "2020-08-15T14:29:25.461713",
     "exception": false,
     "start_time": "2020-08-15T14:29:25.414548",
     "status": "completed"
    },
    "tags": []
   },
   "outputs": [
    {
     "name": "stdout",
     "output_type": "stream",
     "text": [
      "                  index       vif\n",
      "3           citric acid  2.735105\n",
      "1         fixed acidity  2.113091\n",
      "2      volatile acidity  1.498180\n",
      "6               alcohol  1.163675\n",
      "5             sulphates  1.150064\n",
      "4  total sulfur dioxide  1.121176\n",
      "0                 const  1.000000\n"
     ]
    }
   ],
   "source": [
    "vif(X)"
   ]
  },
  {
   "cell_type": "markdown",
   "metadata": {
    "papermill": {
     "duration": 0.024791,
     "end_time": "2020-08-15T14:29:25.511650",
     "exception": false,
     "start_time": "2020-08-15T14:29:25.486859",
     "status": "completed"
    },
    "tags": []
   },
   "source": [
    "- As we can see, there's no multi collinearity since VIF < 5"
   ]
  },
  {
   "cell_type": "markdown",
   "metadata": {
    "papermill": {
     "duration": 0.024582,
     "end_time": "2020-08-15T14:29:25.561074",
     "exception": false,
     "start_time": "2020-08-15T14:29:25.536492",
     "status": "completed"
    },
    "tags": []
   },
   "source": [
    "### Final Model "
   ]
  },
  {
   "cell_type": "code",
   "execution_count": 29,
   "metadata": {
    "execution": {
     "iopub.execute_input": "2020-08-15T14:29:25.617638Z",
     "iopub.status.busy": "2020-08-15T14:29:25.616680Z",
     "iopub.status.idle": "2020-08-15T14:29:25.620656Z",
     "shell.execute_reply": "2020-08-15T14:29:25.619909Z"
    },
    "papermill": {
     "duration": 0.034761,
     "end_time": "2020-08-15T14:29:25.620780",
     "exception": false,
     "start_time": "2020-08-15T14:29:25.586019",
     "status": "completed"
    },
    "tags": []
   },
   "outputs": [
    {
     "name": "stdout",
     "output_type": "stream",
     "text": [
      "Selected columns : Index(['fixed acidity', 'volatile acidity', 'citric acid',\n",
      "       'total sulfur dioxide', 'sulphates', 'alcohol'],\n",
      "      dtype='object')\n"
     ]
    }
   ],
   "source": [
    "print('Selected columns :' , X.columns)"
   ]
  },
  {
   "cell_type": "code",
   "execution_count": 30,
   "metadata": {
    "execution": {
     "iopub.execute_input": "2020-08-15T14:29:25.682161Z",
     "iopub.status.busy": "2020-08-15T14:29:25.681028Z",
     "iopub.status.idle": "2020-08-15T14:29:25.705800Z",
     "shell.execute_reply": "2020-08-15T14:29:25.705181Z"
    },
    "papermill": {
     "duration": 0.060053,
     "end_time": "2020-08-15T14:29:25.705919",
     "exception": false,
     "start_time": "2020-08-15T14:29:25.645866",
     "status": "completed"
    },
    "tags": []
   },
   "outputs": [
    {
     "data": {
      "text/html": [
       "<table class=\"simpletable\">\n",
       "<caption>Generalized Linear Model Regression Results</caption>\n",
       "<tr>\n",
       "  <th>Dep. Variable:</th>        <td>quality</td>     <th>  No. Observations:  </th>  <td>  1119</td> \n",
       "</tr>\n",
       "<tr>\n",
       "  <th>Model:</th>                  <td>GLM</td>       <th>  Df Residuals:      </th>  <td>  1112</td> \n",
       "</tr>\n",
       "<tr>\n",
       "  <th>Model Family:</th>        <td>Binomial</td>     <th>  Df Model:          </th>  <td>     6</td> \n",
       "</tr>\n",
       "<tr>\n",
       "  <th>Link Function:</th>         <td>logit</td>      <th>  Scale:             </th> <td>  1.0000</td>\n",
       "</tr>\n",
       "<tr>\n",
       "  <th>Method:</th>                <td>IRLS</td>       <th>  Log-Likelihood:    </th> <td> -577.02</td>\n",
       "</tr>\n",
       "<tr>\n",
       "  <th>Date:</th>            <td>Sat, 15 Aug 2020</td> <th>  Deviance:          </th> <td>  1154.0</td>\n",
       "</tr>\n",
       "<tr>\n",
       "  <th>Time:</th>                <td>14:29:25</td>     <th>  Pearson chi2:      </th> <td>1.10e+03</td>\n",
       "</tr>\n",
       "<tr>\n",
       "  <th>No. Iterations:</th>          <td>5</td>        <th>                     </th>     <td> </td>   \n",
       "</tr>\n",
       "<tr>\n",
       "  <th>Covariance Type:</th>     <td>nonrobust</td>    <th>                     </th>     <td> </td>   \n",
       "</tr>\n",
       "</table>\n",
       "<table class=\"simpletable\">\n",
       "<tr>\n",
       "            <td></td>              <th>coef</th>     <th>std err</th>      <th>z</th>      <th>P>|z|</th>  <th>[0.025</th>    <th>0.975]</th>  \n",
       "</tr>\n",
       "<tr>\n",
       "  <th>const</th>                <td>    0.2593</td> <td>    0.075</td> <td>    3.465</td> <td> 0.001</td> <td>    0.113</td> <td>    0.406</td>\n",
       "</tr>\n",
       "<tr>\n",
       "  <th>fixed acidity</th>        <td>    0.2883</td> <td>    0.105</td> <td>    2.753</td> <td> 0.006</td> <td>    0.083</td> <td>    0.494</td>\n",
       "</tr>\n",
       "<tr>\n",
       "  <th>volatile acidity</th>     <td>   -0.6874</td> <td>    0.097</td> <td>   -7.064</td> <td> 0.000</td> <td>   -0.878</td> <td>   -0.497</td>\n",
       "</tr>\n",
       "<tr>\n",
       "  <th>citric acid</th>          <td>   -0.4051</td> <td>    0.124</td> <td>   -3.271</td> <td> 0.001</td> <td>   -0.648</td> <td>   -0.162</td>\n",
       "</tr>\n",
       "<tr>\n",
       "  <th>total sulfur dioxide</th> <td>   -0.3479</td> <td>    0.079</td> <td>   -4.402</td> <td> 0.000</td> <td>   -0.503</td> <td>   -0.193</td>\n",
       "</tr>\n",
       "<tr>\n",
       "  <th>sulphates</th>            <td>    0.3769</td> <td>    0.078</td> <td>    4.846</td> <td> 0.000</td> <td>    0.224</td> <td>    0.529</td>\n",
       "</tr>\n",
       "<tr>\n",
       "  <th>alcohol</th>              <td>    1.1186</td> <td>    0.095</td> <td>   11.716</td> <td> 0.000</td> <td>    0.931</td> <td>    1.306</td>\n",
       "</tr>\n",
       "</table>"
      ],
      "text/plain": [
       "<class 'statsmodels.iolib.summary.Summary'>\n",
       "\"\"\"\n",
       "                 Generalized Linear Model Regression Results                  \n",
       "==============================================================================\n",
       "Dep. Variable:                quality   No. Observations:                 1119\n",
       "Model:                            GLM   Df Residuals:                     1112\n",
       "Model Family:                Binomial   Df Model:                            6\n",
       "Link Function:                  logit   Scale:                          1.0000\n",
       "Method:                          IRLS   Log-Likelihood:                -577.02\n",
       "Date:                Sat, 15 Aug 2020   Deviance:                       1154.0\n",
       "Time:                        14:29:25   Pearson chi2:                 1.10e+03\n",
       "No. Iterations:                     5                                         \n",
       "Covariance Type:            nonrobust                                         \n",
       "========================================================================================\n",
       "                           coef    std err          z      P>|z|      [0.025      0.975]\n",
       "----------------------------------------------------------------------------------------\n",
       "const                    0.2593      0.075      3.465      0.001       0.113       0.406\n",
       "fixed acidity            0.2883      0.105      2.753      0.006       0.083       0.494\n",
       "volatile acidity        -0.6874      0.097     -7.064      0.000      -0.878      -0.497\n",
       "citric acid             -0.4051      0.124     -3.271      0.001      -0.648      -0.162\n",
       "total sulfur dioxide    -0.3479      0.079     -4.402      0.000      -0.503      -0.193\n",
       "sulphates                0.3769      0.078      4.846      0.000       0.224       0.529\n",
       "alcohol                  1.1186      0.095     11.716      0.000       0.931       1.306\n",
       "========================================================================================\n",
       "\"\"\""
      ]
     },
     "execution_count": 30,
     "metadata": {},
     "output_type": "execute_result"
    }
   ],
   "source": [
    "logm_final = sm.GLM(y_train, sm.add_constant(X_train[X.columns]),family=sm.families.Binomial())\n",
    "res = logm_final.fit()\n",
    "res.summary()"
   ]
  },
  {
   "cell_type": "markdown",
   "metadata": {
    "papermill": {
     "duration": 0.025213,
     "end_time": "2020-08-15T14:29:25.757061",
     "exception": false,
     "start_time": "2020-08-15T14:29:25.731848",
     "status": "completed"
    },
    "tags": []
   },
   "source": [
    "### Making Predictions on Train Set"
   ]
  },
  {
   "cell_type": "code",
   "execution_count": 31,
   "metadata": {
    "execution": {
     "iopub.execute_input": "2020-08-15T14:29:25.817698Z",
     "iopub.status.busy": "2020-08-15T14:29:25.816771Z",
     "iopub.status.idle": "2020-08-15T14:29:25.820706Z",
     "shell.execute_reply": "2020-08-15T14:29:25.820106Z"
    },
    "papermill": {
     "duration": 0.038241,
     "end_time": "2020-08-15T14:29:25.820824",
     "exception": false,
     "start_time": "2020-08-15T14:29:25.782583",
     "status": "completed"
    },
    "tags": []
   },
   "outputs": [],
   "source": [
    "selected_vars = X.columns\n",
    "y_train_pred = res.predict(sm.add_constant(X_train[X.columns]))"
   ]
  },
  {
   "cell_type": "code",
   "execution_count": 32,
   "metadata": {
    "execution": {
     "iopub.execute_input": "2020-08-15T14:29:25.879118Z",
     "iopub.status.busy": "2020-08-15T14:29:25.878296Z",
     "iopub.status.idle": "2020-08-15T14:29:25.881277Z",
     "shell.execute_reply": "2020-08-15T14:29:25.881925Z"
    },
    "papermill": {
     "duration": 0.035433,
     "end_time": "2020-08-15T14:29:25.882098",
     "exception": false,
     "start_time": "2020-08-15T14:29:25.846665",
     "status": "completed"
    },
    "tags": []
   },
   "outputs": [
    {
     "name": "stdout",
     "output_type": "stream",
     "text": [
      "858    0.855444\n",
      "654    0.255470\n",
      "721    0.172042\n",
      "176    0.388875\n",
      "692    0.379338\n",
      "dtype: float64\n"
     ]
    }
   ],
   "source": [
    "print(y_train_pred.head())"
   ]
  },
  {
   "cell_type": "markdown",
   "metadata": {
    "papermill": {
     "duration": 0.025843,
     "end_time": "2020-08-15T14:29:25.934656",
     "exception": false,
     "start_time": "2020-08-15T14:29:25.908813",
     "status": "completed"
    },
    "tags": []
   },
   "source": [
    "### Wine Quality vs Predicted Probability"
   ]
  },
  {
   "cell_type": "code",
   "execution_count": 33,
   "metadata": {
    "execution": {
     "iopub.execute_input": "2020-08-15T14:29:25.995679Z",
     "iopub.status.busy": "2020-08-15T14:29:25.994774Z",
     "iopub.status.idle": "2020-08-15T14:29:25.998036Z",
     "shell.execute_reply": "2020-08-15T14:29:25.998631Z"
    },
    "papermill": {
     "duration": 0.038262,
     "end_time": "2020-08-15T14:29:25.998784",
     "exception": false,
     "start_time": "2020-08-15T14:29:25.960522",
     "status": "completed"
    },
    "tags": []
   },
   "outputs": [
    {
     "name": "stdout",
     "output_type": "stream",
     "text": [
      "     Quality  class_probability\n",
      "858        1           0.855444\n",
      "654        0           0.255470\n",
      "721        0           0.172042\n",
      "176        0           0.388875\n",
      "692        0           0.379338\n"
     ]
    }
   ],
   "source": [
    "predictions = pd.DataFrame({'Quality' : y_train.values,'class_probability' : y_train_pred.values.reshape(-1)}, index=X_train.index)\n",
    "print(predictions.head())"
   ]
  },
  {
   "cell_type": "markdown",
   "metadata": {
    "papermill": {
     "duration": 0.025767,
     "end_time": "2020-08-15T14:29:26.050326",
     "exception": false,
     "start_time": "2020-08-15T14:29:26.024559",
     "status": "completed"
    },
    "tags": []
   },
   "source": [
    "### Classification Threshold\n",
    "- Let us assume that any probability < 0.5 is Bad and >0.5 is Good"
   ]
  },
  {
   "cell_type": "code",
   "execution_count": 34,
   "metadata": {
    "execution": {
     "iopub.execute_input": "2020-08-15T14:29:26.113750Z",
     "iopub.status.busy": "2020-08-15T14:29:26.112998Z",
     "iopub.status.idle": "2020-08-15T14:29:26.116936Z",
     "shell.execute_reply": "2020-08-15T14:29:26.116306Z"
    },
    "papermill": {
     "duration": 0.040728,
     "end_time": "2020-08-15T14:29:26.117056",
     "exception": false,
     "start_time": "2020-08-15T14:29:26.076328",
     "status": "completed"
    },
    "tags": []
   },
   "outputs": [
    {
     "name": "stdout",
     "output_type": "stream",
     "text": [
      "     Quality  class_probability  Predicted_Quality\n",
      "858        1           0.855444                  1\n",
      "654        0           0.255470                  0\n",
      "721        0           0.172042                  0\n",
      "176        0           0.388875                  0\n",
      "692        0           0.379338                  0\n"
     ]
    }
   ],
   "source": [
    "predictions['Predicted_Quality'] = predictions['class_probability'].apply(lambda x : 1 if x > 0.5 else 0)\n",
    "print(predictions.head())"
   ]
  },
  {
   "cell_type": "markdown",
   "metadata": {
    "papermill": {
     "duration": 0.025806,
     "end_time": "2020-08-15T14:29:26.168694",
     "exception": false,
     "start_time": "2020-08-15T14:29:26.142888",
     "status": "completed"
    },
    "tags": []
   },
   "source": [
    "### Simple Metrics"
   ]
  },
  {
   "cell_type": "code",
   "execution_count": 35,
   "metadata": {
    "execution": {
     "iopub.execute_input": "2020-08-15T14:29:26.225827Z",
     "iopub.status.busy": "2020-08-15T14:29:26.224838Z",
     "iopub.status.idle": "2020-08-15T14:29:26.227546Z",
     "shell.execute_reply": "2020-08-15T14:29:26.228077Z"
    },
    "papermill": {
     "duration": 0.03375,
     "end_time": "2020-08-15T14:29:26.228242",
     "exception": false,
     "start_time": "2020-08-15T14:29:26.194492",
     "status": "completed"
    },
    "tags": []
   },
   "outputs": [],
   "source": [
    "from sklearn import metrics"
   ]
  },
  {
   "cell_type": "markdown",
   "metadata": {
    "papermill": {
     "duration": 0.026225,
     "end_time": "2020-08-15T14:29:26.281165",
     "exception": false,
     "start_time": "2020-08-15T14:29:26.254940",
     "status": "completed"
    },
    "tags": []
   },
   "source": [
    "#### Confusion Matrix"
   ]
  },
  {
   "cell_type": "code",
   "execution_count": 36,
   "metadata": {
    "execution": {
     "iopub.execute_input": "2020-08-15T14:29:26.339195Z",
     "iopub.status.busy": "2020-08-15T14:29:26.338480Z",
     "iopub.status.idle": "2020-08-15T14:29:26.345843Z",
     "shell.execute_reply": "2020-08-15T14:29:26.345216Z"
    },
    "papermill": {
     "duration": 0.038975,
     "end_time": "2020-08-15T14:29:26.345962",
     "exception": false,
     "start_time": "2020-08-15T14:29:26.306987",
     "status": "completed"
    },
    "tags": []
   },
   "outputs": [
    {
     "name": "stdout",
     "output_type": "stream",
     "text": [
      "[[390 130]\n",
      " [147 452]]\n"
     ]
    }
   ],
   "source": [
    "confusion = metrics.confusion_matrix(predictions['Quality'],predictions['Predicted_Quality'])\n",
    "print(confusion)"
   ]
  },
  {
   "cell_type": "markdown",
   "metadata": {
    "papermill": {
     "duration": 0.025791,
     "end_time": "2020-08-15T14:29:26.397896",
     "exception": false,
     "start_time": "2020-08-15T14:29:26.372105",
     "status": "completed"
    },
    "tags": []
   },
   "source": [
    "- The above result could be interpreted in the following manner \n",
    "- a\\[i,j\\] is the no of times class j was predicted when actual was class i \n",
    "- So TN : 390, FP : 130, FN : 147, TP : 452 \n",
    "\n",
    "|Predicted >   |  0 |  1 |\n",
    "|---|---|---|\n",
    "| Actual  |   |   |\n",
    "|  0 | TN = 390  | FP =130  |\n",
    "| 1  | FN =147  | TP = 452  |\n",
    "\n",
    "0 : bad, 1 : good\n"
   ]
  },
  {
   "cell_type": "code",
   "execution_count": 37,
   "metadata": {
    "execution": {
     "iopub.execute_input": "2020-08-15T14:29:26.455620Z",
     "iopub.status.busy": "2020-08-15T14:29:26.454921Z",
     "iopub.status.idle": "2020-08-15T14:29:26.459282Z",
     "shell.execute_reply": "2020-08-15T14:29:26.459812Z"
    },
    "papermill": {
     "duration": 0.035998,
     "end_time": "2020-08-15T14:29:26.459969",
     "exception": false,
     "start_time": "2020-08-15T14:29:26.423971",
     "status": "completed"
    },
    "tags": []
   },
   "outputs": [
    {
     "name": "stdout",
     "output_type": "stream",
     "text": [
      "0.7524575513851653\n"
     ]
    }
   ],
   "source": [
    "# Accuracy of the model\n",
    "print(metrics.accuracy_score(predictions['Quality'],predictions['Predicted_Quality']))"
   ]
  },
  {
   "cell_type": "markdown",
   "metadata": {
    "papermill": {
     "duration": 0.025982,
     "end_time": "2020-08-15T14:29:26.512077",
     "exception": false,
     "start_time": "2020-08-15T14:29:26.486095",
     "status": "completed"
    },
    "tags": []
   },
   "source": [
    "### Metrics beyond Simple Accuracy"
   ]
  },
  {
   "cell_type": "code",
   "execution_count": 38,
   "metadata": {
    "execution": {
     "iopub.execute_input": "2020-08-15T14:29:26.570870Z",
     "iopub.status.busy": "2020-08-15T14:29:26.570136Z",
     "iopub.status.idle": "2020-08-15T14:29:26.573001Z",
     "shell.execute_reply": "2020-08-15T14:29:26.572423Z"
    },
    "papermill": {
     "duration": 0.034582,
     "end_time": "2020-08-15T14:29:26.573125",
     "exception": false,
     "start_time": "2020-08-15T14:29:26.538543",
     "status": "completed"
    },
    "tags": []
   },
   "outputs": [],
   "source": [
    "TP = confusion[1,1]\n",
    "TN = confusion[0,0]\n",
    "FP = confusion[0,1]\n",
    "FN = confusion[1,0]"
   ]
  },
  {
   "cell_type": "code",
   "execution_count": 39,
   "metadata": {
    "execution": {
     "iopub.execute_input": "2020-08-15T14:29:26.640880Z",
     "iopub.status.busy": "2020-08-15T14:29:26.640192Z",
     "iopub.status.idle": "2020-08-15T14:29:26.642700Z",
     "shell.execute_reply": "2020-08-15T14:29:26.643358Z"
    },
    "papermill": {
     "duration": 0.044216,
     "end_time": "2020-08-15T14:29:26.643528",
     "exception": false,
     "start_time": "2020-08-15T14:29:26.599312",
     "status": "completed"
    },
    "tags": []
   },
   "outputs": [],
   "source": [
    "#### Metrics\n",
    "import math\n",
    "def model_metrics(TP,TN,FP,FN) : \n",
    "    print('Accuracy :' , round((TP + TN)/float(TP+TN+FP+FN),3))\n",
    "    print('Misclassification Rate / Error Rate :', round((FP + FN)/float(TP+TN+FP+FN),3))\n",
    "    print('Sensitivity / True Positive Rate / Recall :', round(TP/float(FN + TP),3))\n",
    "    sensitivity = round(TP/float(FN + TP),3)\n",
    "    print('Specificity / True Negative Rate : ', round(TN/float(TN + FP),3))\n",
    "    specificity = round(TN/float(TN + FP),3)\n",
    "    print('False Positive Rate :',round(FP/float(TN + FP),3))\n",
    "    print('Precision / Positive Predictive Value :', round(TP/float(TP + FP),3))\n",
    "    precision = round(TP/float(TP + FP),3)\n",
    "    print('Prevalance :',round((FN + TP)/float(TP+TN+FP+FN),3))\n",
    "    print('Negative Predictive Value', round(TN/float(TN + FN),3))\n",
    "    print('Likelihood Ratio : Sensitivity / 1-Specificity :', round(sensitivity/float(1-specificity) ,3))\n",
    "    print('F1-score :', round(2*precision*sensitivity/(precision + sensitivity),3))"
   ]
  },
  {
   "cell_type": "code",
   "execution_count": 40,
   "metadata": {
    "execution": {
     "iopub.execute_input": "2020-08-15T14:29:26.702929Z",
     "iopub.status.busy": "2020-08-15T14:29:26.702131Z",
     "iopub.status.idle": "2020-08-15T14:29:26.707142Z",
     "shell.execute_reply": "2020-08-15T14:29:26.706330Z"
    },
    "papermill": {
     "duration": 0.03728,
     "end_time": "2020-08-15T14:29:26.707294",
     "exception": false,
     "start_time": "2020-08-15T14:29:26.670014",
     "status": "completed"
    },
    "tags": []
   },
   "outputs": [
    {
     "name": "stdout",
     "output_type": "stream",
     "text": [
      "Accuracy : 0.752\n",
      "Misclassification Rate / Error Rate : 0.248\n",
      "Sensitivity / True Positive Rate / Recall : 0.755\n",
      "Specificity / True Negative Rate :  0.75\n",
      "False Positive Rate : 0.25\n",
      "Precision / Positive Predictive Value : 0.777\n",
      "Prevalance : 0.535\n",
      "Negative Predictive Value 0.726\n",
      "Likelihood Ratio : Sensitivity / 1-Specificity : 3.02\n",
      "F1-score : 0.766\n"
     ]
    }
   ],
   "source": [
    "model_metrics(TP,TN,FP,FN)"
   ]
  },
  {
   "cell_type": "markdown",
   "metadata": {
    "papermill": {
     "duration": 0.026488,
     "end_time": "2020-08-15T14:29:26.760839",
     "exception": false,
     "start_time": "2020-08-15T14:29:26.734351",
     "status": "completed"
    },
    "tags": []
   },
   "source": [
    "### ROC curve"
   ]
  },
  {
   "cell_type": "code",
   "execution_count": 41,
   "metadata": {
    "execution": {
     "iopub.execute_input": "2020-08-15T14:29:26.821649Z",
     "iopub.status.busy": "2020-08-15T14:29:26.820782Z",
     "iopub.status.idle": "2020-08-15T14:29:26.824750Z",
     "shell.execute_reply": "2020-08-15T14:29:26.824033Z"
    },
    "papermill": {
     "duration": 0.037734,
     "end_time": "2020-08-15T14:29:26.824875",
     "exception": false,
     "start_time": "2020-08-15T14:29:26.787141",
     "status": "completed"
    },
    "tags": []
   },
   "outputs": [
    {
     "name": "stdout",
     "output_type": "stream",
     "text": [
      "     Quality  class_probability  Predicted_Quality\n",
      "858        1           0.855444                  1\n",
      "654        0           0.255470                  0\n",
      "721        0           0.172042                  0\n",
      "176        0           0.388875                  0\n",
      "692        0           0.379338                  0\n"
     ]
    }
   ],
   "source": [
    "print(predictions.head())"
   ]
  },
  {
   "cell_type": "code",
   "execution_count": 42,
   "metadata": {
    "execution": {
     "iopub.execute_input": "2020-08-15T14:29:26.899488Z",
     "iopub.status.busy": "2020-08-15T14:29:26.893251Z",
     "iopub.status.idle": "2020-08-15T14:29:26.909963Z",
     "shell.execute_reply": "2020-08-15T14:29:26.909208Z"
    },
    "papermill": {
     "duration": 0.058488,
     "end_time": "2020-08-15T14:29:26.910107",
     "exception": false,
     "start_time": "2020-08-15T14:29:26.851619",
     "status": "completed"
    },
    "tags": []
   },
   "outputs": [],
   "source": [
    "# generating predictions for cutoffs between 0 and 1\n",
    "cutoffs = pd.DataFrame()\n",
    "for i in np.arange(0,1,0.1) : \n",
    "    cutoffs[i] = predictions['class_probability'].map(lambda x : 1 if x > i else 0)"
   ]
  },
  {
   "cell_type": "code",
   "execution_count": 43,
   "metadata": {
    "execution": {
     "iopub.execute_input": "2020-08-15T14:29:26.974324Z",
     "iopub.status.busy": "2020-08-15T14:29:26.973610Z",
     "iopub.status.idle": "2020-08-15T14:29:27.181848Z",
     "shell.execute_reply": "2020-08-15T14:29:27.181204Z"
    },
    "papermill": {
     "duration": 0.244786,
     "end_time": "2020-08-15T14:29:27.181978",
     "exception": false,
     "start_time": "2020-08-15T14:29:26.937192",
     "status": "completed"
    },
    "tags": []
   },
   "outputs": [
    {
     "data": {
      "image/png": "[encoded data removed]",
      "text/plain": [
       "<Figure size 432x288 with 1 Axes>"
      ]
     },
     "metadata": {
      "needs_background": "light"
     },
     "output_type": "display_data"
    }
   ],
   "source": [
    "tpr = []\n",
    "fpr = []\n",
    "for column in cutoffs.columns : \n",
    "    confusion = metrics.confusion_matrix(predictions['Quality'],cutoffs[column])\n",
    "    TP = confusion[1,1] # true positive \n",
    "    TN = confusion[0,0] # true negatives\n",
    "    FP = confusion[0,1] # false positives\n",
    "    FN = confusion[1,0] # false negatives\n",
    "    tpr.append(TP/float(TP + FN))\n",
    "    fpr.append(FP/float(FP + TN))\n",
    "plt.title('ROC curve')\n",
    "plt.xlabel('False Positive Rate')\n",
    "plt.ylabel('True Positive Rate')\n",
    "sns.scatterplot(fpr,tpr);\n",
    "\n"
   ]
  },
  {
   "cell_type": "markdown",
   "metadata": {
    "papermill": {
     "duration": 0.027633,
     "end_time": "2020-08-15T14:29:27.236975",
     "exception": false,
     "start_time": "2020-08-15T14:29:27.209342",
     "status": "completed"
    },
    "tags": []
   },
   "source": [
    "### Optimum Cut Off "
   ]
  },
  {
   "cell_type": "code",
   "execution_count": 44,
   "metadata": {
    "execution": {
     "iopub.execute_input": "2020-08-15T14:29:27.304299Z",
     "iopub.status.busy": "2020-08-15T14:29:27.300041Z",
     "iopub.status.idle": "2020-08-15T14:29:27.603250Z",
     "shell.execute_reply": "2020-08-15T14:29:27.602549Z"
    },
    "papermill": {
     "duration": 0.338781,
     "end_time": "2020-08-15T14:29:27.603385",
     "exception": false,
     "start_time": "2020-08-15T14:29:27.264604",
     "status": "completed"
    },
    "tags": []
   },
   "outputs": [
    {
     "data": {
      "image/png": "[encoded data removed]",
      "text/plain": [
       "<Figure size 432x288 with 1 Axes>"
      ]
     },
     "metadata": {
      "needs_background": "light"
     },
     "output_type": "display_data"
    }
   ],
   "source": [
    "sensitivity = []\n",
    "specificity = []\n",
    "accuracy = []\n",
    "coffs = []\n",
    "for column in cutoffs.columns : \n",
    "    confusion = metrics.confusion_matrix(predictions['Quality'],cutoffs[column])\n",
    "    TP = confusion[1,1] # true positive \n",
    "    TN = confusion[0,0] # true negatives\n",
    "    FP = confusion[0,1] # false positives\n",
    "    FN = confusion[1,0] # false negatives\n",
    "    sensitivity.append(TP/float(TP + FN))\n",
    "    specificity.append(1 - FP/float(FP + TN))\n",
    "    accuracy.append((TP + TN)/(TP + TN + FP + FN))\n",
    "fig,ax = plt.subplots()\n",
    "ax.set_xlabel('Cutoffs')\n",
    "ax.plot(cutoffs.columns,sensitivity,label='sensitivity')\n",
    "ax.plot(cutoffs.columns,specificity,label='specificity')\n",
    "ax.plot(cutoffs.columns,accuracy,label='accuracy')\n",
    "ax.legend(('sensitivity','specificity','accuracy'))\n",
    "plt.show()"
   ]
  },
  {
   "cell_type": "markdown",
   "metadata": {
    "papermill": {
     "duration": 0.027397,
     "end_time": "2020-08-15T14:29:27.658610",
     "exception": false,
     "start_time": "2020-08-15T14:29:27.631213",
     "status": "completed"
    },
    "tags": []
   },
   "source": [
    "- From the above plot, 0.5 seems like the optimum Threshold for classification"
   ]
  },
  {
   "cell_type": "code",
   "execution_count": 45,
   "metadata": {
    "execution": {
     "iopub.execute_input": "2020-08-15T14:29:27.722818Z",
     "iopub.status.busy": "2020-08-15T14:29:27.721786Z",
     "iopub.status.idle": "2020-08-15T14:29:27.725016Z",
     "shell.execute_reply": "2020-08-15T14:29:27.724305Z"
    },
    "papermill": {
     "duration": 0.03859,
     "end_time": "2020-08-15T14:29:27.725150",
     "exception": false,
     "start_time": "2020-08-15T14:29:27.686560",
     "status": "completed"
    },
    "tags": []
   },
   "outputs": [],
   "source": [
    "predictions['Final_Predictions'] = predictions['Predicted_Quality'].map(lambda x : 1 if x > 0.5 else 0)"
   ]
  },
  {
   "cell_type": "code",
   "execution_count": 46,
   "metadata": {
    "execution": {
     "iopub.execute_input": "2020-08-15T14:29:27.787833Z",
     "iopub.status.busy": "2020-08-15T14:29:27.787108Z",
     "iopub.status.idle": "2020-08-15T14:29:27.793445Z",
     "shell.execute_reply": "2020-08-15T14:29:27.792842Z"
    },
    "papermill": {
     "duration": 0.04059,
     "end_time": "2020-08-15T14:29:27.793565",
     "exception": false,
     "start_time": "2020-08-15T14:29:27.752975",
     "status": "completed"
    },
    "tags": []
   },
   "outputs": [],
   "source": [
    "confusion_final = metrics.confusion_matrix(predictions['Quality'],predictions['Final_Predictions'])\n",
    "TP = confusion_final[1,1]\n",
    "TN = confusion_final[0,0]\n",
    "FP = confusion_final[0,1]\n",
    "FN = confusion_final[1,0]"
   ]
  },
  {
   "cell_type": "code",
   "execution_count": 47,
   "metadata": {
    "execution": {
     "iopub.execute_input": "2020-08-15T14:29:27.855526Z",
     "iopub.status.busy": "2020-08-15T14:29:27.854637Z",
     "iopub.status.idle": "2020-08-15T14:29:27.858968Z",
     "shell.execute_reply": "2020-08-15T14:29:27.858028Z"
    },
    "papermill": {
     "duration": 0.03752,
     "end_time": "2020-08-15T14:29:27.859124",
     "exception": false,
     "start_time": "2020-08-15T14:29:27.821604",
     "status": "completed"
    },
    "tags": []
   },
   "outputs": [
    {
     "name": "stdout",
     "output_type": "stream",
     "text": [
      "Accuracy : 0.752\n",
      "Misclassification Rate / Error Rate : 0.248\n",
      "Sensitivity / True Positive Rate / Recall : 0.755\n",
      "Specificity / True Negative Rate :  0.75\n",
      "False Positive Rate : 0.25\n",
      "Precision / Positive Predictive Value : 0.777\n",
      "Prevalance : 0.535\n",
      "Negative Predictive Value 0.726\n",
      "Likelihood Ratio : Sensitivity / 1-Specificity : 3.02\n",
      "F1-score : 0.766\n"
     ]
    }
   ],
   "source": [
    "#### Metrics\n",
    "model_metrics(TP,TN,FP,FN)"
   ]
  },
  {
   "cell_type": "markdown",
   "metadata": {
    "papermill": {
     "duration": 0.028124,
     "end_time": "2020-08-15T14:29:27.916103",
     "exception": false,
     "start_time": "2020-08-15T14:29:27.887979",
     "status": "completed"
    },
    "tags": []
   },
   "source": [
    "### Precision and Recall "
   ]
  },
  {
   "cell_type": "code",
   "execution_count": 48,
   "metadata": {
    "execution": {
     "iopub.execute_input": "2020-08-15T14:29:27.984175Z",
     "iopub.status.busy": "2020-08-15T14:29:27.983445Z",
     "iopub.status.idle": "2020-08-15T14:29:28.185097Z",
     "shell.execute_reply": "2020-08-15T14:29:28.185638Z"
    },
    "papermill": {
     "duration": 0.241451,
     "end_time": "2020-08-15T14:29:28.185805",
     "exception": false,
     "start_time": "2020-08-15T14:29:27.944354",
     "status": "completed"
    },
    "tags": []
   },
   "outputs": [
    {
     "data": {
      "image/png": "[encoded data removed]",
      "text/plain": [
       "<Figure size 432x288 with 1 Axes>"
      ]
     },
     "metadata": {
      "needs_background": "light"
     },
     "output_type": "display_data"
    }
   ],
   "source": [
    "precision = [] # positive predictive power - TP / TP + FP\n",
    "recall = []   ## same as sensitivity\n",
    "\n",
    "for column in cutoffs.columns : \n",
    "    confusion = metrics.confusion_matrix(predictions['Quality'],cutoffs[column])\n",
    "    TP = confusion[1,1] # true positive \n",
    "    TN = confusion[0,0] # true negatives\n",
    "    FP = confusion[0,1] # false positives\n",
    "    FN = confusion[1,0] # false negatives\n",
    "    precision.append(TP/float(TP + FP))\n",
    "    recall.append(TP/float(FN + TP))\n",
    "\n",
    "fig,ax = plt.subplots()\n",
    "ax.set_xlabel('Cutoffs')\n",
    "ax.plot(cutoffs.columns,precision,label='precision')\n",
    "ax.plot(cutoffs.columns,recall,label='recall')\n",
    "ax.legend(('precision','recall'))\n",
    "plt.show()"
   ]
  },
  {
   "cell_type": "code",
   "execution_count": 49,
   "metadata": {
    "execution": {
     "iopub.execute_input": "2020-08-15T14:29:28.248859Z",
     "iopub.status.busy": "2020-08-15T14:29:28.248144Z",
     "iopub.status.idle": "2020-08-15T14:29:28.258313Z",
     "shell.execute_reply": "2020-08-15T14:29:28.257462Z"
    },
    "papermill": {
     "duration": 0.044225,
     "end_time": "2020-08-15T14:29:28.258491",
     "exception": false,
     "start_time": "2020-08-15T14:29:28.214266",
     "status": "completed"
    },
    "tags": []
   },
   "outputs": [
    {
     "name": "stdout",
     "output_type": "stream",
     "text": [
      "Precision 0.7766323024054983\n",
      "Recall 0.7545909849749582\n"
     ]
    }
   ],
   "source": [
    "# using sklearn utilities \n",
    "from sklearn.metrics import precision_score, recall_score\n",
    "print('Precision',precision_score(predictions['Quality'],predictions['Predicted_Quality']))\n",
    "print('Recall', recall_score(predictions['Quality'],predictions['Predicted_Quality']))"
   ]
  },
  {
   "cell_type": "markdown",
   "metadata": {
    "papermill": {
     "duration": 0.027812,
     "end_time": "2020-08-15T14:29:28.315031",
     "exception": false,
     "start_time": "2020-08-15T14:29:28.287219",
     "status": "completed"
    },
    "tags": []
   },
   "source": [
    "### Predictions on Test set"
   ]
  },
  {
   "cell_type": "code",
   "execution_count": 50,
   "metadata": {
    "execution": {
     "iopub.execute_input": "2020-08-15T14:29:28.381589Z",
     "iopub.status.busy": "2020-08-15T14:29:28.380733Z",
     "iopub.status.idle": "2020-08-15T14:29:28.384799Z",
     "shell.execute_reply": "2020-08-15T14:29:28.384069Z"
    },
    "papermill": {
     "duration": 0.041764,
     "end_time": "2020-08-15T14:29:28.384919",
     "exception": false,
     "start_time": "2020-08-15T14:29:28.343155",
     "status": "completed"
    },
    "tags": []
   },
   "outputs": [
    {
     "name": "stdout",
     "output_type": "stream",
     "text": [
      "      fixed acidity  volatile acidity  citric acid  total sulfur dioxide  \\\n",
      "1254      -0.302046          0.908335    -1.056968             -0.341840   \n",
      "1087      -0.244545         -1.905494     0.765915             -0.496144   \n",
      "822       -0.934554          0.025565    -0.702518             -0.310980   \n",
      "1514      -0.819552          1.680759    -0.297433              0.583983   \n",
      "902       -0.532049          0.549710    -0.854425             -0.403562   \n",
      "\n",
      "      sulphates   alcohol  \n",
      "1254   0.203567  0.482194  \n",
      "1087   0.203567  0.766538  \n",
      "822   -0.099025 -0.560402  \n",
      "1514   0.385122 -1.097497  \n",
      "902    0.203567  0.387412  \n"
     ]
    }
   ],
   "source": [
    "print(X_test[X.columns].head())"
   ]
  },
  {
   "cell_type": "code",
   "execution_count": 51,
   "metadata": {
    "execution": {
     "iopub.execute_input": "2020-08-15T14:29:28.453571Z",
     "iopub.status.busy": "2020-08-15T14:29:28.452859Z",
     "iopub.status.idle": "2020-08-15T14:29:28.455669Z",
     "shell.execute_reply": "2020-08-15T14:29:28.456190Z"
    },
    "papermill": {
     "duration": 0.042355,
     "end_time": "2020-08-15T14:29:28.456349",
     "exception": false,
     "start_time": "2020-08-15T14:29:28.413994",
     "status": "completed"
    },
    "tags": []
   },
   "outputs": [],
   "source": [
    "test_predictions = pd.DataFrame()\n",
    "X_test_ = X_test[X.columns]\n",
    "test_predictions['Class_Probabilities'] = res.predict(sm.add_constant(X_test_))"
   ]
  },
  {
   "cell_type": "code",
   "execution_count": 52,
   "metadata": {
    "execution": {
     "iopub.execute_input": "2020-08-15T14:29:28.519242Z",
     "iopub.status.busy": "2020-08-15T14:29:28.518563Z",
     "iopub.status.idle": "2020-08-15T14:29:28.521735Z",
     "shell.execute_reply": "2020-08-15T14:29:28.521009Z"
    },
    "papermill": {
     "duration": 0.037101,
     "end_time": "2020-08-15T14:29:28.521857",
     "exception": false,
     "start_time": "2020-08-15T14:29:28.484756",
     "status": "completed"
    },
    "tags": []
   },
   "outputs": [],
   "source": [
    "test_predictions['Original'] = y_test\n",
    "test_predictions.index = y_test.index"
   ]
  },
  {
   "cell_type": "code",
   "execution_count": 53,
   "metadata": {
    "execution": {
     "iopub.execute_input": "2020-08-15T14:29:28.585786Z",
     "iopub.status.busy": "2020-08-15T14:29:28.585106Z",
     "iopub.status.idle": "2020-08-15T14:29:28.588385Z",
     "shell.execute_reply": "2020-08-15T14:29:28.587822Z"
    },
    "papermill": {
     "duration": 0.038112,
     "end_time": "2020-08-15T14:29:28.588531",
     "exception": false,
     "start_time": "2020-08-15T14:29:28.550419",
     "status": "completed"
    },
    "tags": []
   },
   "outputs": [],
   "source": [
    "# Predictions are made using 0.5 as the threshold\n",
    "test_predictions['Predicted'] = test_predictions['Class_Probabilities'].map(lambda x : 1 if x > 0.5 else 0)"
   ]
  },
  {
   "cell_type": "code",
   "execution_count": 54,
   "metadata": {
    "execution": {
     "iopub.execute_input": "2020-08-15T14:29:28.651811Z",
     "iopub.status.busy": "2020-08-15T14:29:28.651095Z",
     "iopub.status.idle": "2020-08-15T14:29:28.658911Z",
     "shell.execute_reply": "2020-08-15T14:29:28.658270Z"
    },
    "papermill": {
     "duration": 0.042211,
     "end_time": "2020-08-15T14:29:28.659030",
     "exception": false,
     "start_time": "2020-08-15T14:29:28.616819",
     "status": "completed"
    },
    "tags": []
   },
   "outputs": [
    {
     "name": "stdout",
     "output_type": "stream",
     "text": [
      "Accuracy : 0.746\n",
      "Misclassification Rate / Error Rate : 0.254\n",
      "Sensitivity / True Positive Rate / Recall : 0.797\n",
      "Specificity / True Negative Rate :  0.688\n",
      "False Positive Rate : 0.312\n",
      "Precision / Positive Predictive Value : 0.745\n",
      "Prevalance : 0.533\n",
      "Negative Predictive Value 0.748\n",
      "Likelihood Ratio : Sensitivity / 1-Specificity : 2.554\n",
      "F1-score : 0.77\n"
     ]
    }
   ],
   "source": [
    "#### Metrics\n",
    "TN,FP,FN,TP = metrics.confusion_matrix(test_predictions['Original'],test_predictions['Predicted']).reshape(-1)\n",
    "model_metrics(TP,TN,FP,FN)\n",
    "    "
   ]
  }
 ],
 "metadata": {
  "kernelspec": {
   "display_name": "Python 3",
   "language": "python",
   "name": "python3"
  },
  "language_info": {
   "codemirror_mode": {
    "name": "ipython",
    "version": 3
   },
   "file_extension": ".py",
   "mimetype": "text/x-python",
   "name": "python",
   "nbconvert_exporter": "python",
   "pygments_lexer": "ipython3",
   "version": "3.8.3"
  },
  "papermill": {
   "duration": 14.719344,
   "end_time": "2020-08-15T14:29:28.795002",
   "environment_variables": {},
   "exception": null,
   "input_path": "__notebook__.ipynb",
   "output_path": "__notebook__.ipynb",
   "parameters": {},
   "start_time": "2020-08-15T14:29:14.075658",
   "version": "2.1.0"
  }
 },
 "nbformat": 4,
 "nbformat_minor": 4
}
